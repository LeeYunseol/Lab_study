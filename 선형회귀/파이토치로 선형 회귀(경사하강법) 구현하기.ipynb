{
 "cells": [
  {
   "cell_type": "markdown",
   "id": "df85288c",
   "metadata": {},
   "source": [
    "# 기본 셋팅"
   ]
  },
  {
   "cell_type": "code",
   "execution_count": 15,
   "id": "606b5d25",
   "metadata": {},
   "outputs": [],
   "source": [
    "import torch\n",
    "import torch.nn as nn\n",
    "import torch.nn.functional as F  # 활성화 함수, 손실 함수 대체 \n",
    "import torch.optim as optim  # 옵티마이저"
   ]
  },
  {
   "cell_type": "code",
   "execution_count": 16,
   "id": "3fb110e0",
   "metadata": {},
   "outputs": [
    {
     "data": {
      "text/plain": [
       "<torch._C.Generator at 0x23bf16e96f0>"
      ]
     },
     "execution_count": 16,
     "metadata": {},
     "output_type": "execute_result"
    }
   ],
   "source": [
    "# 재시작해도 같은 결과가 나오도록 마치 random_state = 0 과 같다.\n",
    "torch.manual_seed(1)"
   ]
  },
  {
   "cell_type": "markdown",
   "id": "bd84dba6",
   "metadata": {},
   "source": [
    "# 변수 선언(X_train, Y_train)"
   ]
  },
  {
   "cell_type": "code",
   "execution_count": 17,
   "id": "1a2cdc56",
   "metadata": {},
   "outputs": [],
   "source": [
    "X_train = torch.FloatTensor([[1], [2], [3]])\n",
    "Y_train = torch.FloatTensor([[2], [4], [6]])"
   ]
  },
  {
   "cell_type": "markdown",
   "id": "f7274474",
   "metadata": {},
   "source": [
    "X_train과 Y_train의 값과 모양 확인"
   ]
  },
  {
   "cell_type": "code",
   "execution_count": 18,
   "id": "601a122a",
   "metadata": {},
   "outputs": [
    {
     "name": "stdout",
     "output_type": "stream",
     "text": [
      "tensor([[1.],\n",
      "        [2.],\n",
      "        [3.]])\n",
      "torch.Size([3, 1])\n"
     ]
    }
   ],
   "source": [
    "print(X_train)\n",
    "print(X_train.shape)"
   ]
  },
  {
   "cell_type": "code",
   "execution_count": 19,
   "id": "c26e959e",
   "metadata": {},
   "outputs": [
    {
     "name": "stdout",
     "output_type": "stream",
     "text": [
      "tensor([[2.],\n",
      "        [4.],\n",
      "        [6.]])\n",
      "torch.Size([3, 1])\n"
     ]
    }
   ],
   "source": [
    "print(Y_train)\n",
    "print(Y_train.shape)"
   ]
  },
  {
   "cell_type": "markdown",
   "id": "e185e37f",
   "metadata": {},
   "source": [
    "당연한거지만 X_train과 Y_train의 shape는 같아야함"
   ]
  },
  {
   "cell_type": "markdown",
   "id": "37767c85",
   "metadata": {},
   "source": [
    "# 가중치와 편향의 초기화"
   ]
  },
  {
   "cell_type": "markdown",
   "id": "ee5caddc",
   "metadata": {},
   "source": [
    "Y = Wx + b 라고 했을 때, 가중치는 W 편향은 b이다."
   ]
  },
  {
   "cell_type": "code",
   "execution_count": 20,
   "id": "c3677779",
   "metadata": {},
   "outputs": [
    {
     "name": "stdout",
     "output_type": "stream",
     "text": [
      "tensor([0.], requires_grad=True)\n"
     ]
    }
   ],
   "source": [
    "# 가중치 W를 0으로 초기화 하고 값 출력(이 경우에는 이렇게 사용했지만 무조건 가중치를 0으로 초기화해서는 안된다))\n",
    "W = torch.zeros(1, requires_grad = True)\n",
    "# 가중치 W 출력\n",
    "print(W)"
   ]
  },
  {
   "cell_type": "markdown",
   "id": "887c468e",
   "metadata": {},
   "source": [
    "requires_grad = True는 이 변수는 학습을 통해 계속 값이 변경되는 변수임을 의미한다.\n",
    "\n",
    "가중치의 크기(size)를 1로 한 것은 행렬 곱셈에 의해서다\n",
    "Y = Wx + h 일때 이미 Y와 x는 3 by 1 행렬임을 확인하였다.\n",
    "이를 위해서 W또한 특정 크기의 행렬이 되어야한다고 생각했지만 스칼라값의 크기를 가지게 되었다. \n",
    "이는 텐서가 브로드 캐스팅이 가능하기 때문이다. \n",
    "또, 우리는 가중치를 곱해도 크기가 보존되어야하기 때문에 브로드 캐스팅을 사용한다.\n",
    "\n",
    "![nn](img/BroadCast.png)"
   ]
  },
  {
   "cell_type": "code",
   "execution_count": 21,
   "id": "d176e74b",
   "metadata": {},
   "outputs": [
    {
     "name": "stdout",
     "output_type": "stream",
     "text": [
      "tensor([0.], requires_grad=True)\n"
     ]
    }
   ],
   "source": [
    "# 편향 b도 0으로 초기화하고 학습을 통해 값이 변경되는 변수임을 명시\n",
    "b = torch.zeros(1, requires_grad = True)\n",
    "print(b)"
   ]
  },
  {
   "cell_type": "markdown",
   "id": "44f9a51d",
   "metadata": {},
   "source": [
    "# 가설 세우기"
   ]
  },
  {
   "cell_type": "markdown",
   "id": "167717b4",
   "metadata": {},
   "source": [
    "H(x) = Wx + b"
   ]
  },
  {
   "cell_type": "code",
   "execution_count": 22,
   "id": "3fb154b3",
   "metadata": {},
   "outputs": [
    {
     "name": "stdout",
     "output_type": "stream",
     "text": [
      "tensor([[0.],\n",
      "        [0.],\n",
      "        [0.]], grad_fn=<AddBackward0>)\n"
     ]
    }
   ],
   "source": [
    "hypothesis = X_train * W + b\n",
    "print(hypothesis)"
   ]
  },
  {
   "cell_type": "markdown",
   "id": "dbbac488",
   "metadata": {},
   "source": [
    "# 비용 함수 선언하기"
   ]
  },
  {
   "cell_type": "markdown",
   "id": "fd15a342",
   "metadata": {},
   "source": [
    "비용함수는 우리가 이전에 공부한 것과 같다.\n",
    "![nn](img/CostFunction.png)"
   ]
  },
  {
   "cell_type": "code",
   "execution_count": 23,
   "id": "7ec72d18",
   "metadata": {},
   "outputs": [
    {
     "name": "stdout",
     "output_type": "stream",
     "text": [
      "tensor(18.6667, grad_fn=<MeanBackward0>)\n"
     ]
    }
   ],
   "source": [
    "# torch.mean 으로 평균을 구한다.\n",
    "cost = torch.mean((hypothesis - Y_train) ** 2)\n",
    "print(cost)"
   ]
  },
  {
   "cell_type": "markdown",
   "id": "f8b8d3ef",
   "metadata": {},
   "source": [
    "# 경사 하강법 구현하기"
   ]
  },
  {
   "cell_type": "markdown",
   "id": "517becac",
   "metadata": {},
   "source": [
    "SGD 사용"
   ]
  },
  {
   "cell_type": "code",
   "execution_count": 24,
   "id": "700e7d8d",
   "metadata": {},
   "outputs": [],
   "source": [
    "optimizer = optim.SGD([W, b], lr = 0.01)"
   ]
  },
  {
   "cell_type": "code",
   "execution_count": 25,
   "id": "02a07246",
   "metadata": {},
   "outputs": [],
   "source": [
    "\"\"\"\n",
    "optimzer.zero_grad()을 사용하여 미분을 통해 얻은 기울기를 0으로 초기화\n",
    "기울기를 초기화해야만 새로운 가중치 편향에 대해서 새로운 기울기를 구할 수 있음\n",
    "\"\"\"\n",
    "optimizer.zero_grad()\n",
    "\n",
    "# cost.backward() 함수를 호출하면 가중치 W와 편향 b에 대한 기울기가 자동적으로 계산\n",
    "cost.backward()\n",
    "\n",
    "# 가중치와 편항을 업데이트\n",
    "optimizer.step()\n"
   ]
  },
  {
   "cell_type": "markdown",
   "id": "f1925302",
   "metadata": {},
   "source": [
    "# 전체 학습"
   ]
  },
  {
   "cell_type": "code",
   "execution_count": 27,
   "id": "a6cb457d",
   "metadata": {},
   "outputs": [
    {
     "name": "stdout",
     "output_type": "stream",
     "text": [
      "Epoch    0/1999 W: 0.353, b: 0.151 Cost: 14.770963\n",
      "Epoch  100/1999 W: 1.746, b: 0.577 Cost: 0.047939\n",
      "Epoch  200/1999 W: 1.801, b: 0.453 Cost: 0.029624\n",
      "Epoch  300/1999 W: 1.843, b: 0.356 Cost: 0.018306\n",
      "Epoch  400/1999 W: 1.877, b: 0.280 Cost: 0.011312\n",
      "Epoch  500/1999 W: 1.903, b: 0.220 Cost: 0.006990\n",
      "Epoch  600/1999 W: 1.924, b: 0.173 Cost: 0.004319\n",
      "Epoch  700/1999 W: 1.940, b: 0.136 Cost: 0.002669\n",
      "Epoch  800/1999 W: 1.953, b: 0.107 Cost: 0.001649\n",
      "Epoch  900/1999 W: 1.963, b: 0.084 Cost: 0.001019\n",
      "Epoch 1000/1999 W: 1.971, b: 0.066 Cost: 0.000630\n",
      "Epoch 1100/1999 W: 1.977, b: 0.052 Cost: 0.000389\n",
      "Epoch 1200/1999 W: 1.982, b: 0.041 Cost: 0.000240\n",
      "Epoch 1300/1999 W: 1.986, b: 0.032 Cost: 0.000149\n",
      "Epoch 1400/1999 W: 1.989, b: 0.025 Cost: 0.000092\n",
      "Epoch 1500/1999 W: 1.991, b: 0.020 Cost: 0.000057\n",
      "Epoch 1600/1999 W: 1.993, b: 0.016 Cost: 0.000035\n",
      "Epoch 1700/1999 W: 1.995, b: 0.012 Cost: 0.000022\n",
      "Epoch 1800/1999 W: 1.996, b: 0.010 Cost: 0.000013\n",
      "Epoch 1900/1999 W: 1.997, b: 0.008 Cost: 0.000008\n"
     ]
    }
   ],
   "source": [
    "nb_epochs = 1999 # 원하는만큼 경사 하강법을 반복\n",
    "for epoch in range(nb_epochs + 1):\n",
    "\n",
    "    # H(x) 계산\n",
    "    hypothesis = X_train * W + b\n",
    "\n",
    "    # cost 계산\n",
    "    cost = torch.mean((hypothesis - Y_train) ** 2)\n",
    "\n",
    "    # cost로 H(x) 개선\n",
    "    optimizer.zero_grad()\n",
    "    cost.backward()\n",
    "    optimizer.step()\n",
    "\n",
    "    # 100번마다 로그 출력\n",
    "    if epoch % 100 == 0:\n",
    "        print('Epoch {:4d}/{} W: {:.3f}, b: {:.3f} Cost: {:.6f}'.format(\n",
    "            epoch, nb_epochs, W.item(), b.item(), cost.item()\n",
    "        ))"
   ]
  },
  {
   "cell_type": "markdown",
   "id": "53df8718",
   "metadata": {},
   "source": [
    "COST가 작아지면서 가중치와 편항이 업데이트 된 것을 확인 할 수 있음."
   ]
  },
  {
   "cell_type": "markdown",
   "id": "38d4bca4",
   "metadata": {},
   "source": [
    "# optimizer.zero_grad()가 필요한 이유"
   ]
  },
  {
   "cell_type": "markdown",
   "id": "466f373d",
   "metadata": {},
   "source": [
    "파이토치는 미분을 통해 얻은 기울기를 이전에 계산된 기울기 값에 누적시키는 특징이 있음"
   ]
  },
  {
   "cell_type": "code",
   "execution_count": 29,
   "id": "99126606",
   "metadata": {},
   "outputs": [
    {
     "name": "stdout",
     "output_type": "stream",
     "text": [
      "수식을 w로 미분한 값 : 2.0\n",
      "수식을 w로 미분한 값 : 4.0\n",
      "수식을 w로 미분한 값 : 6.0\n",
      "수식을 w로 미분한 값 : 8.0\n",
      "수식을 w로 미분한 값 : 10.0\n",
      "수식을 w로 미분한 값 : 12.0\n",
      "수식을 w로 미분한 값 : 14.0\n",
      "수식을 w로 미분한 값 : 16.0\n",
      "수식을 w로 미분한 값 : 18.0\n",
      "수식을 w로 미분한 값 : 20.0\n",
      "수식을 w로 미분한 값 : 22.0\n",
      "수식을 w로 미분한 값 : 24.0\n",
      "수식을 w로 미분한 값 : 26.0\n",
      "수식을 w로 미분한 값 : 28.0\n",
      "수식을 w로 미분한 값 : 30.0\n",
      "수식을 w로 미분한 값 : 32.0\n",
      "수식을 w로 미분한 값 : 34.0\n",
      "수식을 w로 미분한 값 : 36.0\n",
      "수식을 w로 미분한 값 : 38.0\n",
      "수식을 w로 미분한 값 : 40.0\n",
      "수식을 w로 미분한 값 : 42.0\n"
     ]
    }
   ],
   "source": [
    "import torch\n",
    "w = torch.tensor(2.0, requires_grad = True)\n",
    "\n",
    "nb_epochs = 20\n",
    "for epoch in range(nb_epochs + 1) :\n",
    "    z = 2 * w\n",
    "    \n",
    "    z.backward() # 기울기 계산\n",
    "    print('수식을 w로 미분한 값 : {}'.format(w.grad))"
   ]
  },
  {
   "cell_type": "raw",
   "id": "49da1cf4",
   "metadata": {},
   "source": [
    "계속해서 미분값인 2가 누적되는 것을 볼 수 있음 \n",
    "그렇기 때문에 optimizer.zero_grad()를 통해 미분 값을 계속 0으로 초기화 시켜줘야함"
   ]
  }
 ],
 "metadata": {
  "kernelspec": {
   "display_name": "Python 3",
   "language": "python",
   "name": "python3"
  },
  "language_info": {
   "codemirror_mode": {
    "name": "ipython",
    "version": 3
   },
   "file_extension": ".py",
   "mimetype": "text/x-python",
   "name": "python",
   "nbconvert_exporter": "python",
   "pygments_lexer": "ipython3",
   "version": "3.7.10"
  },
  "toc": {
   "base_numbering": 1,
   "nav_menu": {},
   "number_sections": true,
   "sideBar": true,
   "skip_h1_title": false,
   "title_cell": "Table of Contents",
   "title_sidebar": "Contents",
   "toc_cell": false,
   "toc_position": {},
   "toc_section_display": true,
   "toc_window_display": false
  },
  "varInspector": {
   "cols": {
    "lenName": 16,
    "lenType": 16,
    "lenVar": 40
   },
   "kernels_config": {
    "python": {
     "delete_cmd_postfix": "",
     "delete_cmd_prefix": "del ",
     "library": "var_list.py",
     "varRefreshCmd": "print(var_dic_list())"
    },
    "r": {
     "delete_cmd_postfix": ") ",
     "delete_cmd_prefix": "rm(",
     "library": "var_list.r",
     "varRefreshCmd": "cat(var_dic_list()) "
    }
   },
   "types_to_exclude": [
    "module",
    "function",
    "builtin_function_or_method",
    "instance",
    "_Feature"
   ],
   "window_display": false
  }
 },
 "nbformat": 4,
 "nbformat_minor": 5
}
