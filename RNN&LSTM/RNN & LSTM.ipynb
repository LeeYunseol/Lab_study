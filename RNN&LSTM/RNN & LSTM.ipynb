{
 "cells": [
  {
   "cell_type": "markdown",
   "metadata": {},
   "source": [
    "출처 : https://colab.research.google.com/github/teddylee777/machine-learning/blob/master/04-TensorFlow2.0/01-%EC%82%BC%EC%84%B1%EC%A0%84%EC%9E%90-%EC%A3%BC%EA%B0%80%EC%98%88%EC%B8%A1/02-LSTM-stock-forecasting-with-LSTM-financedatareader.ipynb#scrollTo=j81HIAlC8K2Q"
   ]
  },
  {
   "cell_type": "code",
   "execution_count": 1,
   "metadata": {},
   "outputs": [],
   "source": [
    "import pandas as pd\n",
    "import numpy as np\n",
    "import matplotlib.pyplot as plt\n",
    "import seaborn as sns\n",
    "import warnings\n",
    "import os\n",
    "\n",
    "%matplotlib inline\n",
    "warnings.filterwarnings('ignore')\n",
    "\n",
    "plt.rcParams['font.family'] = 'NanumGothic'"
   ]
  },
  {
   "cell_type": "markdown",
   "metadata": {},
   "source": [
    "FinanceDataReader는 주가 데이터를 편리하게 가져올 수 있는 파이썬 패키지입니다. 이를 활용해서 데이터를 불러오겠습니다."
   ]
  },
  {
   "cell_type": "code",
   "execution_count": 2,
   "metadata": {},
   "outputs": [
    {
     "name": "stdout",
     "output_type": "stream",
     "text": [
      "Requirement already satisfied: finance-datareader in c:\\users\\hyunj\\anaconda3\\lib\\site-packages (0.9.33)\n",
      "Requirement already satisfied: tqdm in c:\\users\\hyunj\\anaconda3\\lib\\site-packages (from finance-datareader) (4.50.2)\n",
      "Requirement already satisfied: requests-file in c:\\users\\hyunj\\anaconda3\\lib\\site-packages (from finance-datareader) (1.5.1)\n",
      "Requirement already satisfied: pandas>=0.19.2 in c:\\users\\hyunj\\anaconda3\\lib\\site-packages (from finance-datareader) (1.1.3)\n",
      "Requirement already satisfied: requests>=2.3.0 in c:\\users\\hyunj\\anaconda3\\lib\\site-packages (from finance-datareader) (2.24.0)\n",
      "Requirement already satisfied: lxml in c:\\users\\hyunj\\anaconda3\\lib\\site-packages (from finance-datareader) (4.6.1)\n",
      "Requirement already satisfied: python-dateutil>=2.7.3 in c:\\users\\hyunj\\anaconda3\\lib\\site-packages (from pandas>=0.19.2->finance-datareader) (2.8.1)\n",
      "Requirement already satisfied: numpy>=1.15.4 in c:\\users\\hyunj\\anaconda3\\lib\\site-packages (from pandas>=0.19.2->finance-datareader) (1.19.2)\n",
      "Requirement already satisfied: pytz>=2017.2 in c:\\users\\hyunj\\anaconda3\\lib\\site-packages (from pandas>=0.19.2->finance-datareader) (2020.1)\n",
      "Requirement already satisfied: six>=1.5 in c:\\users\\hyunj\\anaconda3\\lib\\site-packages (from python-dateutil>=2.7.3->pandas>=0.19.2->finance-datareader) (1.15.0)\n",
      "Requirement already satisfied: urllib3!=1.25.0,!=1.25.1,<1.26,>=1.21.1 in c:\\users\\hyunj\\anaconda3\\lib\\site-packages (from requests>=2.3.0->finance-datareader) (1.25.11)\n",
      "Requirement already satisfied: chardet<4,>=3.0.2 in c:\\users\\hyunj\\anaconda3\\lib\\site-packages (from requests>=2.3.0->finance-datareader) (3.0.4)\n",
      "Requirement already satisfied: idna<3,>=2.5 in c:\\users\\hyunj\\anaconda3\\lib\\site-packages (from requests>=2.3.0->finance-datareader) (2.10)\n",
      "Requirement already satisfied: certifi>=2017.4.17 in c:\\users\\hyunj\\anaconda3\\lib\\site-packages (from requests>=2.3.0->finance-datareader) (2020.6.20)\n"
     ]
    },
    {
     "name": "stderr",
     "output_type": "stream",
     "text": [
      "WARNING: You are using pip version 21.1.3; however, version 22.0.4 is available.\n",
      "You should consider upgrading via the 'c:\\users\\hyunj\\anaconda3\\python.exe -m pip install --upgrade pip' command.\n"
     ]
    }
   ],
   "source": [
    "!pip install finance-datareader"
   ]
  },
  {
   "cell_type": "code",
   "execution_count": 3,
   "metadata": {},
   "outputs": [],
   "source": [
    "import FinanceDataReader as fdr\n",
    "\n",
    "# 삼성전자(005930) 전체 (1996-11-05 ~ 현재)\n",
    "samsung = fdr.DataReader('005930')"
   ]
  },
  {
   "cell_type": "code",
   "execution_count": 4,
   "metadata": {},
   "outputs": [
    {
     "data": {
      "text/html": [
       "<div>\n",
       "<style scoped>\n",
       "    .dataframe tbody tr th:only-of-type {\n",
       "        vertical-align: middle;\n",
       "    }\n",
       "\n",
       "    .dataframe tbody tr th {\n",
       "        vertical-align: top;\n",
       "    }\n",
       "\n",
       "    .dataframe thead th {\n",
       "        text-align: right;\n",
       "    }\n",
       "</style>\n",
       "<table border=\"1\" class=\"dataframe\">\n",
       "  <thead>\n",
       "    <tr style=\"text-align: right;\">\n",
       "      <th></th>\n",
       "      <th>Open</th>\n",
       "      <th>High</th>\n",
       "      <th>Low</th>\n",
       "      <th>Close</th>\n",
       "      <th>Volume</th>\n",
       "      <th>Change</th>\n",
       "    </tr>\n",
       "    <tr>\n",
       "      <th>Date</th>\n",
       "      <th></th>\n",
       "      <th></th>\n",
       "      <th></th>\n",
       "      <th></th>\n",
       "      <th></th>\n",
       "      <th></th>\n",
       "    </tr>\n",
       "  </thead>\n",
       "  <tbody>\n",
       "    <tr>\n",
       "      <th>1998-02-02</th>\n",
       "      <td>1495</td>\n",
       "      <td>1557</td>\n",
       "      <td>1486</td>\n",
       "      <td>1489</td>\n",
       "      <td>675460</td>\n",
       "      <td>NaN</td>\n",
       "    </tr>\n",
       "    <tr>\n",
       "      <th>1998-02-03</th>\n",
       "      <td>1561</td>\n",
       "      <td>1563</td>\n",
       "      <td>1436</td>\n",
       "      <td>1472</td>\n",
       "      <td>666120</td>\n",
       "      <td>-0.011417</td>\n",
       "    </tr>\n",
       "    <tr>\n",
       "      <th>1998-02-04</th>\n",
       "      <td>1488</td>\n",
       "      <td>1515</td>\n",
       "      <td>1443</td>\n",
       "      <td>1452</td>\n",
       "      <td>497530</td>\n",
       "      <td>-0.013587</td>\n",
       "    </tr>\n",
       "    <tr>\n",
       "      <th>1998-02-05</th>\n",
       "      <td>1416</td>\n",
       "      <td>1446</td>\n",
       "      <td>1336</td>\n",
       "      <td>1336</td>\n",
       "      <td>485790</td>\n",
       "      <td>-0.079890</td>\n",
       "    </tr>\n",
       "    <tr>\n",
       "      <th>1998-02-06</th>\n",
       "      <td>1441</td>\n",
       "      <td>1441</td>\n",
       "      <td>1406</td>\n",
       "      <td>1441</td>\n",
       "      <td>1278060</td>\n",
       "      <td>0.078593</td>\n",
       "    </tr>\n",
       "  </tbody>\n",
       "</table>\n",
       "</div>"
      ],
      "text/plain": [
       "            Open  High   Low  Close   Volume    Change\n",
       "Date                                                  \n",
       "1998-02-02  1495  1557  1486   1489   675460       NaN\n",
       "1998-02-03  1561  1563  1436   1472   666120 -0.011417\n",
       "1998-02-04  1488  1515  1443   1452   497530 -0.013587\n",
       "1998-02-05  1416  1446  1336   1336   485790 -0.079890\n",
       "1998-02-06  1441  1441  1406   1441  1278060  0.078593"
      ]
     },
     "execution_count": 4,
     "metadata": {},
     "output_type": "execute_result"
    }
   ],
   "source": [
    "samsung.head()"
   ]
  },
  {
   "cell_type": "markdown",
   "metadata": {},
   "source": [
    "Open: 시가\n",
    "High: 고가\n",
    "Low: 저가\n",
    "Close: 종가\n",
    "Volume: 거래량\n",
    "Change: 대비"
   ]
  },
  {
   "cell_type": "code",
   "execution_count": 5,
   "metadata": {},
   "outputs": [
    {
     "data": {
      "text/html": [
       "<div>\n",
       "<style scoped>\n",
       "    .dataframe tbody tr th:only-of-type {\n",
       "        vertical-align: middle;\n",
       "    }\n",
       "\n",
       "    .dataframe tbody tr th {\n",
       "        vertical-align: top;\n",
       "    }\n",
       "\n",
       "    .dataframe thead th {\n",
       "        text-align: right;\n",
       "    }\n",
       "</style>\n",
       "<table border=\"1\" class=\"dataframe\">\n",
       "  <thead>\n",
       "    <tr style=\"text-align: right;\">\n",
       "      <th></th>\n",
       "      <th>Open</th>\n",
       "      <th>High</th>\n",
       "      <th>Low</th>\n",
       "      <th>Close</th>\n",
       "      <th>Volume</th>\n",
       "      <th>Change</th>\n",
       "    </tr>\n",
       "    <tr>\n",
       "      <th>Date</th>\n",
       "      <th></th>\n",
       "      <th></th>\n",
       "      <th></th>\n",
       "      <th></th>\n",
       "      <th></th>\n",
       "      <th></th>\n",
       "    </tr>\n",
       "  </thead>\n",
       "  <tbody>\n",
       "    <tr>\n",
       "      <th>2022-03-11</th>\n",
       "      <td>70500</td>\n",
       "      <td>70700</td>\n",
       "      <td>69700</td>\n",
       "      <td>70000</td>\n",
       "      <td>15787655</td>\n",
       "      <td>-0.016854</td>\n",
       "    </tr>\n",
       "    <tr>\n",
       "      <th>2022-03-14</th>\n",
       "      <td>70000</td>\n",
       "      <td>70200</td>\n",
       "      <td>69600</td>\n",
       "      <td>70200</td>\n",
       "      <td>9040993</td>\n",
       "      <td>0.002857</td>\n",
       "    </tr>\n",
       "    <tr>\n",
       "      <th>2022-03-15</th>\n",
       "      <td>69800</td>\n",
       "      <td>70100</td>\n",
       "      <td>69500</td>\n",
       "      <td>69500</td>\n",
       "      <td>10258562</td>\n",
       "      <td>-0.009972</td>\n",
       "    </tr>\n",
       "    <tr>\n",
       "      <th>2022-03-16</th>\n",
       "      <td>70200</td>\n",
       "      <td>70500</td>\n",
       "      <td>69700</td>\n",
       "      <td>70400</td>\n",
       "      <td>10175750</td>\n",
       "      <td>0.012950</td>\n",
       "    </tr>\n",
       "    <tr>\n",
       "      <th>2022-03-17</th>\n",
       "      <td>71200</td>\n",
       "      <td>71800</td>\n",
       "      <td>70900</td>\n",
       "      <td>71200</td>\n",
       "      <td>17015578</td>\n",
       "      <td>0.011364</td>\n",
       "    </tr>\n",
       "  </tbody>\n",
       "</table>\n",
       "</div>"
      ],
      "text/plain": [
       "             Open   High    Low  Close    Volume    Change\n",
       "Date                                                      \n",
       "2022-03-11  70500  70700  69700  70000  15787655 -0.016854\n",
       "2022-03-14  70000  70200  69600  70200   9040993  0.002857\n",
       "2022-03-15  69800  70100  69500  69500  10258562 -0.009972\n",
       "2022-03-16  70200  70500  69700  70400  10175750  0.012950\n",
       "2022-03-17  71200  71800  70900  71200  17015578  0.011364"
      ]
     },
     "execution_count": 5,
     "metadata": {},
     "output_type": "execute_result"
    }
   ],
   "source": [
    "samsung.tail()"
   ]
  },
  {
   "cell_type": "code",
   "execution_count": 6,
   "metadata": {},
   "outputs": [
    {
     "name": "stdout",
     "output_type": "stream",
     "text": [
      "<class 'pandas.core.frame.DataFrame'>\n",
      "DatetimeIndex: 6000 entries, 1998-02-02 to 2022-03-17\n",
      "Data columns (total 6 columns):\n",
      " #   Column  Non-Null Count  Dtype  \n",
      "---  ------  --------------  -----  \n",
      " 0   Open    6000 non-null   int64  \n",
      " 1   High    6000 non-null   int64  \n",
      " 2   Low     6000 non-null   int64  \n",
      " 3   Close   6000 non-null   int64  \n",
      " 4   Volume  6000 non-null   int64  \n",
      " 5   Change  5999 non-null   float64\n",
      "dtypes: float64(1), int64(5)\n",
      "memory usage: 328.1 KB\n"
     ]
    }
   ],
   "source": [
    "samsung.info()"
   ]
  },
  {
   "cell_type": "code",
   "execution_count": 7,
   "metadata": {},
   "outputs": [
    {
     "data": {
      "text/plain": [
       "DatetimeIndex(['1998-02-02', '1998-02-03', '1998-02-04', '1998-02-05',\n",
       "               '1998-02-06', '1998-02-07', '1998-02-09', '1998-02-10',\n",
       "               '1998-02-11', '1998-02-12',\n",
       "               ...\n",
       "               '2022-03-03', '2022-03-04', '2022-03-07', '2022-03-08',\n",
       "               '2022-03-10', '2022-03-11', '2022-03-14', '2022-03-15',\n",
       "               '2022-03-16', '2022-03-17'],\n",
       "              dtype='datetime64[ns]', name='Date', length=6000, freq=None)"
      ]
     },
     "execution_count": 7,
     "metadata": {},
     "output_type": "execute_result"
    }
   ],
   "source": [
    "# DatetimeIndex가 있는 것을 확인할 수 있습니다. Date가 index로 돼 있다고 생각하시면 쉽게 이해할 수 있습니다.\n",
    "\n",
    "samsung.index"
   ]
  },
  {
   "cell_type": "code",
   "execution_count": 8,
   "metadata": {},
   "outputs": [
    {
     "data": {
      "text/plain": [
       "(6000, 6)"
      ]
     },
     "execution_count": 8,
     "metadata": {},
     "output_type": "execute_result"
    }
   ],
   "source": [
    "samsung.shape"
   ]
  },
  {
   "cell_type": "markdown",
   "metadata": {},
   "source": [
    "DatetimeIndex로 정의되어 있다면, 아래와 같이 연도, 월, 일을 쪼갤 수 있으며, 월별, 연도별 피벗데이터를 만들때 유용하게 활용할 수 있습니다."
   ]
  },
  {
   "cell_type": "code",
   "execution_count": 9,
   "metadata": {},
   "outputs": [],
   "source": [
    "samsung['Year'] = samsung.index.year\n",
    "samsung['Month'] = samsung.index.month\n",
    "samsung['Day'] = samsung.index.day"
   ]
  },
  {
   "cell_type": "code",
   "execution_count": 10,
   "metadata": {},
   "outputs": [
    {
     "data": {
      "text/html": [
       "<div>\n",
       "<style scoped>\n",
       "    .dataframe tbody tr th:only-of-type {\n",
       "        vertical-align: middle;\n",
       "    }\n",
       "\n",
       "    .dataframe tbody tr th {\n",
       "        vertical-align: top;\n",
       "    }\n",
       "\n",
       "    .dataframe thead th {\n",
       "        text-align: right;\n",
       "    }\n",
       "</style>\n",
       "<table border=\"1\" class=\"dataframe\">\n",
       "  <thead>\n",
       "    <tr style=\"text-align: right;\">\n",
       "      <th></th>\n",
       "      <th>Open</th>\n",
       "      <th>High</th>\n",
       "      <th>Low</th>\n",
       "      <th>Close</th>\n",
       "      <th>Volume</th>\n",
       "      <th>Change</th>\n",
       "      <th>Year</th>\n",
       "      <th>Month</th>\n",
       "      <th>Day</th>\n",
       "    </tr>\n",
       "    <tr>\n",
       "      <th>Date</th>\n",
       "      <th></th>\n",
       "      <th></th>\n",
       "      <th></th>\n",
       "      <th></th>\n",
       "      <th></th>\n",
       "      <th></th>\n",
       "      <th></th>\n",
       "      <th></th>\n",
       "      <th></th>\n",
       "    </tr>\n",
       "  </thead>\n",
       "  <tbody>\n",
       "    <tr>\n",
       "      <th>1998-02-02</th>\n",
       "      <td>1495</td>\n",
       "      <td>1557</td>\n",
       "      <td>1486</td>\n",
       "      <td>1489</td>\n",
       "      <td>675460</td>\n",
       "      <td>NaN</td>\n",
       "      <td>1998</td>\n",
       "      <td>2</td>\n",
       "      <td>2</td>\n",
       "    </tr>\n",
       "    <tr>\n",
       "      <th>1998-02-03</th>\n",
       "      <td>1561</td>\n",
       "      <td>1563</td>\n",
       "      <td>1436</td>\n",
       "      <td>1472</td>\n",
       "      <td>666120</td>\n",
       "      <td>-0.011417</td>\n",
       "      <td>1998</td>\n",
       "      <td>2</td>\n",
       "      <td>3</td>\n",
       "    </tr>\n",
       "    <tr>\n",
       "      <th>1998-02-04</th>\n",
       "      <td>1488</td>\n",
       "      <td>1515</td>\n",
       "      <td>1443</td>\n",
       "      <td>1452</td>\n",
       "      <td>497530</td>\n",
       "      <td>-0.013587</td>\n",
       "      <td>1998</td>\n",
       "      <td>2</td>\n",
       "      <td>4</td>\n",
       "    </tr>\n",
       "    <tr>\n",
       "      <th>1998-02-05</th>\n",
       "      <td>1416</td>\n",
       "      <td>1446</td>\n",
       "      <td>1336</td>\n",
       "      <td>1336</td>\n",
       "      <td>485790</td>\n",
       "      <td>-0.079890</td>\n",
       "      <td>1998</td>\n",
       "      <td>2</td>\n",
       "      <td>5</td>\n",
       "    </tr>\n",
       "    <tr>\n",
       "      <th>1998-02-06</th>\n",
       "      <td>1441</td>\n",
       "      <td>1441</td>\n",
       "      <td>1406</td>\n",
       "      <td>1441</td>\n",
       "      <td>1278060</td>\n",
       "      <td>0.078593</td>\n",
       "      <td>1998</td>\n",
       "      <td>2</td>\n",
       "      <td>6</td>\n",
       "    </tr>\n",
       "  </tbody>\n",
       "</table>\n",
       "</div>"
      ],
      "text/plain": [
       "            Open  High   Low  Close   Volume    Change  Year  Month  Day\n",
       "Date                                                                    \n",
       "1998-02-02  1495  1557  1486   1489   675460       NaN  1998      2    2\n",
       "1998-02-03  1561  1563  1436   1472   666120 -0.011417  1998      2    3\n",
       "1998-02-04  1488  1515  1443   1452   497530 -0.013587  1998      2    4\n",
       "1998-02-05  1416  1446  1336   1336   485790 -0.079890  1998      2    5\n",
       "1998-02-06  1441  1441  1406   1441  1278060  0.078593  1998      2    6"
      ]
     },
     "execution_count": 10,
     "metadata": {},
     "output_type": "execute_result"
    }
   ],
   "source": [
    "samsung.head()"
   ]
  },
  {
   "cell_type": "markdown",
   "metadata": {},
   "source": [
    "시각화 "
   ]
  },
  {
   "cell_type": "code",
   "execution_count": 11,
   "metadata": {},
   "outputs": [
    {
     "data": {
      "text/plain": [
       "Text(0, 0.5, 'price')"
      ]
     },
     "execution_count": 11,
     "metadata": {},
     "output_type": "execute_result"
    },
    {
     "name": "stderr",
     "output_type": "stream",
     "text": [
      "findfont: Font family ['NanumGothic'] not found. Falling back to DejaVu Sans.\n"
     ]
    },
    {
     "data": {
      "image/png": "[encoded data removed]",
      "text/plain": [
       "<Figure size 1152x648 with 1 Axes>"
      ]
     },
     "metadata": {
      "needs_background": "light"
     },
     "output_type": "display_data"
    }
   ],
   "source": [
    "plt.figure(figsize=(16, 9))\n",
    "# 종가를 확인해야하니\n",
    "sns.lineplot(y=samsung['Close'], x=samsung.index)\n",
    "plt.xlabel('time')\n",
    "plt.ylabel('price')"
   ]
  },
  {
   "cell_type": "markdown",
   "metadata": {},
   "source": [
    "데이터 전처리"
   ]
  },
  {
   "cell_type": "markdown",
   "metadata": {},
   "source": [
    "시계열 데이터는 전처리를 위해서 MinMaxScaler를 사용한다고하는데 제가 봤던 예제 코드에서는 y까지 scaling해준 것을 확인하였습니다. 하지만 실장님께서는 y는 해도 되지 않다고 해서 이 데이터 셋에서는 y를 Scaling한 경우와 하지 않은 경우를 구분하여 학습 및 예측해보겠습니다."
   ]
  },
  {
   "cell_type": "markdown",
   "metadata": {},
   "source": [
    "y까지 스케일링 한 경우"
   ]
  },
  {
   "cell_type": "code",
   "execution_count": 12,
   "metadata": {},
   "outputs": [
    {
     "data": {
      "text/html": [
       "<div>\n",
       "<style scoped>\n",
       "    .dataframe tbody tr th:only-of-type {\n",
       "        vertical-align: middle;\n",
       "    }\n",
       "\n",
       "    .dataframe tbody tr th {\n",
       "        vertical-align: top;\n",
       "    }\n",
       "\n",
       "    .dataframe thead th {\n",
       "        text-align: right;\n",
       "    }\n",
       "</style>\n",
       "<table border=\"1\" class=\"dataframe\">\n",
       "  <thead>\n",
       "    <tr style=\"text-align: right;\">\n",
       "      <th></th>\n",
       "      <th>Open</th>\n",
       "      <th>High</th>\n",
       "      <th>Low</th>\n",
       "      <th>Close</th>\n",
       "      <th>Volume</th>\n",
       "    </tr>\n",
       "  </thead>\n",
       "  <tbody>\n",
       "    <tr>\n",
       "      <th>0</th>\n",
       "      <td>0.016556</td>\n",
       "      <td>0.016085</td>\n",
       "      <td>0.016603</td>\n",
       "      <td>0.009418</td>\n",
       "      <td>0.007480</td>\n",
       "    </tr>\n",
       "    <tr>\n",
       "      <th>1</th>\n",
       "      <td>0.017287</td>\n",
       "      <td>0.016147</td>\n",
       "      <td>0.016045</td>\n",
       "      <td>0.009230</td>\n",
       "      <td>0.007376</td>\n",
       "    </tr>\n",
       "    <tr>\n",
       "      <th>2</th>\n",
       "      <td>0.016478</td>\n",
       "      <td>0.015651</td>\n",
       "      <td>0.016123</td>\n",
       "      <td>0.009008</td>\n",
       "      <td>0.005509</td>\n",
       "    </tr>\n",
       "    <tr>\n",
       "      <th>3</th>\n",
       "      <td>0.015681</td>\n",
       "      <td>0.014938</td>\n",
       "      <td>0.014927</td>\n",
       "      <td>0.007724</td>\n",
       "      <td>0.005379</td>\n",
       "    </tr>\n",
       "    <tr>\n",
       "      <th>4</th>\n",
       "      <td>0.015958</td>\n",
       "      <td>0.014886</td>\n",
       "      <td>0.015709</td>\n",
       "      <td>0.008886</td>\n",
       "      <td>0.014153</td>\n",
       "    </tr>\n",
       "  </tbody>\n",
       "</table>\n",
       "</div>"
      ],
      "text/plain": [
       "       Open      High       Low     Close    Volume\n",
       "0  0.016556  0.016085  0.016603  0.009418  0.007480\n",
       "1  0.017287  0.016147  0.016045  0.009230  0.007376\n",
       "2  0.016478  0.015651  0.016123  0.009008  0.005509\n",
       "3  0.015681  0.014938  0.014927  0.007724  0.005379\n",
       "4  0.015958  0.014886  0.015709  0.008886  0.014153"
      ]
     },
     "execution_count": 12,
     "metadata": {},
     "output_type": "execute_result"
    }
   ],
   "source": [
    "# 되도록이면 전체 데이터 셋을 scaling 하고 데이터 분할\n",
    "# 참고: https://nicola-ml.tistory.com/86\n",
    "\n",
    "from sklearn.preprocessing import MinMaxScaler\n",
    "\n",
    "scaler = MinMaxScaler()\n",
    "# 스케일을 적용할 column을 정의합니다. (y인 Close까지 정규화 적용)\n",
    "scale_cols = ['Open', 'High', 'Low', 'Close', 'Volume']\n",
    "# 스케일 후 columns\n",
    "scaled = scaler.fit_transform(samsung[scale_cols])\n",
    "\n",
    "df = pd.DataFrame(scaled, columns=scale_cols)\n",
    "df.head()"
   ]
  },
  {
   "cell_type": "markdown",
   "metadata": {},
   "source": [
    "학습을 시킬 데이터셋 생성 => window_sliding"
   ]
  },
  {
   "cell_type": "code",
   "execution_count": 13,
   "metadata": {},
   "outputs": [],
   "source": [
    "# TEST_SIZE : 며칠을 Test data로 사용할 것인가\n",
    "TEST_SIZE = 500 # 500일을 사용\n",
    "\n",
    "train = df[:-TEST_SIZE]\n",
    "test = df[-TEST_SIZE:]"
   ]
  },
  {
   "cell_type": "markdown",
   "metadata": {},
   "source": [
    "데이터 셋을 만들어주는 함수 (window_sliding)"
   ]
  },
  {
   "cell_type": "code",
   "execution_count": 14,
   "metadata": {},
   "outputs": [],
   "source": [
    "def make_dataset(data, label, window_size=20):\n",
    "    feature_list = []\n",
    "    label_list = []\n",
    "    for i in range(len(data) - window_size):\n",
    "        feature_list.append(np.array(data.iloc[i:i+window_size]))\n",
    "        label_list.append(np.array(label.iloc[i+window_size]))\n",
    "    return np.array(feature_list), np.array(label_list)"
   ]
  },
  {
   "cell_type": "code",
   "execution_count": 15,
   "metadata": {},
   "outputs": [
    {
     "name": "stdout",
     "output_type": "stream",
     "text": [
      "(4932, 20, 4) (548, 20, 4)\n",
      "(480, 20, 4) (480, 1)\n"
     ]
    }
   ],
   "source": [
    "feature_cols = ['Open', 'High', 'Low', 'Volume']\n",
    "label_cols = ['Close']\n",
    "\n",
    "train_feature = train[feature_cols]\n",
    "train_label = train[label_cols]\n",
    "\n",
    "# train dataset\n",
    "train_feature, train_label = make_dataset(train_feature, train_label, 20)\n",
    "\n",
    "# train, validation set 생성\n",
    "from sklearn.model_selection import train_test_split\n",
    "x_train, x_valid, y_train, y_valid = train_test_split(train_feature, train_label, test_size=0.1)\n",
    "\n",
    "print(x_train.shape, x_valid.shape)\n",
    "\n",
    "\n",
    "test_feature = test[feature_cols]\n",
    "test_label = test[label_cols]\n",
    "\n",
    "test_feature, test_label = make_dataset(test_feature, test_label, 20)\n",
    "print(test_feature.shape, test_label.shape)\n",
    "\n",
    "# 즉 4392개를 학습하면서 548개의 데이터에 대해서 검증, 마지막으로 예측은 480개에 대해서!"
   ]
  },
  {
   "cell_type": "markdown",
   "metadata": {},
   "source": [
    "RNN 모델 생성"
   ]
  },
  {
   "cell_type": "code",
   "execution_count": 16,
   "metadata": {},
   "outputs": [
    {
     "name": "stdout",
     "output_type": "stream",
     "text": [
      "Model: \"sequential\"\n",
      "_________________________________________________________________\n",
      "Layer (type)                 Output Shape              Param #   \n",
      "=================================================================\n",
      "simple_rnn (SimpleRNN)       (None, 20, 32)            1184      \n",
      "_________________________________________________________________\n",
      "simple_rnn_1 (SimpleRNN)     (None, 32)                2080      \n",
      "_________________________________________________________________\n",
      "dense (Dense)                (None, 1)                 33        \n",
      "=================================================================\n",
      "Total params: 3,297\n",
      "Trainable params: 3,297\n",
      "Non-trainable params: 0\n",
      "_________________________________________________________________\n"
     ]
    }
   ],
   "source": [
    "# 모델을 만들면서 hiden layer 안의 뉴런의 갯수, hidden layer 개수, epoch, batch_size는 임의로 정했습니다.\n",
    "\n",
    "from keras.models import Sequential \n",
    "from keras.layers import Dense, SimpleRNN \n",
    "\n",
    "rnn_model = Sequential()\n",
    "rnn_model.add(SimpleRNN(32, \n",
    "                        input_shape=(train_feature.shape[1], train_feature.shape[2]),\n",
    "                        return_sequences = True))\n",
    "rnn_model.add(SimpleRNN(32))\n",
    "rnn_model.add(Dense(1)) # The time step of the output \n",
    "\n",
    "rnn_model.compile(optimizer = 'rmsprop', loss = 'mean_squared_error')\n",
    "\n",
    "rnn_model.summary()"
   ]
  },
  {
   "cell_type": "code",
   "execution_count": 17,
   "metadata": {},
   "outputs": [
    {
     "name": "stdout",
     "output_type": "stream",
     "text": [
      "Epoch 1/100\n",
      "309/309 [==============================] - 33s 11ms/step - loss: 0.0086 - val_loss: 0.0010\n",
      "Epoch 2/100\n",
      "309/309 [==============================] - 2s 7ms/step - loss: 6.9049e-04 - val_loss: 5.2720e-04\n",
      "Epoch 3/100\n",
      "309/309 [==============================] - 2s 8ms/step - loss: 7.3659e-04 - val_loss: 8.7047e-04\n",
      "Epoch 4/100\n",
      "309/309 [==============================] - 2s 7ms/step - loss: 4.6884e-04 - val_loss: 6.4661e-04\n",
      "Epoch 5/100\n",
      "309/309 [==============================] - 2s 8ms/step - loss: 2.5306e-04 - val_loss: 7.2883e-04\n",
      "Epoch 6/100\n",
      "309/309 [==============================] - 2s 7ms/step - loss: 1.4655e-04 - val_loss: 7.7193e-04\n",
      "Epoch 7/100\n",
      "309/309 [==============================] - 2s 8ms/step - loss: 2.1655e-04 - val_loss: 8.0856e-04\n",
      "Epoch 8/100\n",
      "309/309 [==============================] - 2s 8ms/step - loss: 2.6444e-04 - val_loss: 7.7176e-04\n",
      "Epoch 9/100\n",
      "309/309 [==============================] - 3s 8ms/step - loss: 2.0901e-04 - val_loss: 7.3390e-04\n",
      "Epoch 10/100\n",
      "309/309 [==============================] - 2s 8ms/step - loss: 2.4725e-04 - val_loss: 0.0010\n",
      "Epoch 11/100\n",
      "309/309 [==============================] - 2s 8ms/step - loss: 3.3070e-04 - val_loss: 7.6781e-04\n",
      "Epoch 12/100\n",
      "309/309 [==============================] - 3s 8ms/step - loss: 1.4828e-04 - val_loss: 6.1290e-04\n",
      "Epoch 13/100\n",
      "309/309 [==============================] - 2s 8ms/step - loss: 2.0525e-04 - val_loss: 6.9513e-04\n",
      "Epoch 14/100\n",
      "309/309 [==============================] - 2s 8ms/step - loss: 3.4330e-04 - val_loss: 7.5040e-04\n",
      "Epoch 15/100\n",
      "309/309 [==============================] - 2s 7ms/step - loss: 2.0139e-04 - val_loss: 6.4809e-04\n",
      "Epoch 16/100\n",
      "309/309 [==============================] - 2s 7ms/step - loss: 1.9784e-04 - val_loss: 7.2977e-04\n",
      "Epoch 17/100\n",
      "309/309 [==============================] - 2s 8ms/step - loss: 1.9839e-04 - val_loss: 4.5667e-04\n",
      "Epoch 18/100\n",
      "309/309 [==============================] - 2s 8ms/step - loss: 1.4606e-04 - val_loss: 0.0016\n",
      "Epoch 19/100\n",
      "309/309 [==============================] - 2s 8ms/step - loss: 1.2399e-04 - val_loss: 7.1992e-04\n",
      "Epoch 20/100\n",
      "309/309 [==============================] - 2s 7ms/step - loss: 2.4208e-04 - val_loss: 5.7060e-04\n",
      "Epoch 21/100\n",
      "309/309 [==============================] - 2s 8ms/step - loss: 2.6384e-04 - val_loss: 6.6071e-04\n",
      "Epoch 22/100\n",
      "309/309 [==============================] - 2s 8ms/step - loss: 1.1430e-04 - val_loss: 8.4192e-04\n",
      "Epoch 23/100\n",
      "309/309 [==============================] - 2s 7ms/step - loss: 2.8385e-04 - val_loss: 6.9609e-04\n",
      "Epoch 24/100\n",
      "309/309 [==============================] - 2s 8ms/step - loss: 1.6807e-04 - val_loss: 5.5903e-04\n",
      "Epoch 25/100\n",
      "309/309 [==============================] - 2s 7ms/step - loss: 3.4020e-04 - val_loss: 7.1347e-04\n",
      "Epoch 26/100\n",
      "309/309 [==============================] - 2s 8ms/step - loss: 2.2395e-04 - val_loss: 7.0125e-04\n",
      "Epoch 27/100\n",
      "309/309 [==============================] - 2s 7ms/step - loss: 1.2996e-04 - val_loss: 6.9665e-04\n",
      "Epoch 28/100\n",
      "309/309 [==============================] - 2s 7ms/step - loss: 2.6917e-04 - val_loss: 7.8667e-04\n",
      "Epoch 29/100\n",
      "309/309 [==============================] - 2s 7ms/step - loss: 4.8410e-04 - val_loss: 5.8126e-04\n",
      "Epoch 30/100\n",
      "309/309 [==============================] - 2s 7ms/step - loss: 1.5271e-04 - val_loss: 6.5868e-04\n",
      "Epoch 31/100\n",
      "309/309 [==============================] - 2s 8ms/step - loss: 1.4246e-04 - val_loss: 6.7661e-04\n",
      "Epoch 32/100\n",
      "309/309 [==============================] - 2s 8ms/step - loss: 2.0483e-04 - val_loss: 7.1151e-04\n",
      "Epoch 33/100\n",
      "309/309 [==============================] - 2s 8ms/step - loss: 1.4622e-04 - val_loss: 6.3007e-04\n",
      "Epoch 34/100\n",
      "309/309 [==============================] - 2s 8ms/step - loss: 1.6967e-04 - val_loss: 6.1293e-04\n",
      "Epoch 35/100\n",
      "309/309 [==============================] - 2s 8ms/step - loss: 1.9523e-04 - val_loss: 7.4304e-04\n",
      "Epoch 36/100\n",
      "309/309 [==============================] - 2s 8ms/step - loss: 3.3634e-04 - val_loss: 7.9805e-04\n",
      "Epoch 37/100\n",
      "309/309 [==============================] - 2s 7ms/step - loss: 7.2556e-05 - val_loss: 5.3989e-04\n",
      "Epoch 38/100\n",
      "309/309 [==============================] - 3s 8ms/step - loss: 9.9889e-05 - val_loss: 6.4393e-04\n",
      "Epoch 39/100\n",
      "309/309 [==============================] - 2s 8ms/step - loss: 1.9576e-04 - val_loss: 5.7784e-04\n",
      "Epoch 40/100\n",
      "309/309 [==============================] - 4s 12ms/step - loss: 2.6374e-04 - val_loss: 9.6297e-04\n",
      "Epoch 41/100\n",
      "309/309 [==============================] - 2s 8ms/step - loss: 2.3719e-04 - val_loss: 6.4997e-04\n",
      "Epoch 42/100\n",
      "309/309 [==============================] - 2s 7ms/step - loss: 3.2437e-04 - val_loss: 7.2795e-04\n",
      "Epoch 43/100\n",
      "309/309 [==============================] - 2s 7ms/step - loss: 2.1365e-04 - val_loss: 7.4963e-04\n",
      "Epoch 44/100\n",
      "309/309 [==============================] - 2s 7ms/step - loss: 1.2648e-04 - val_loss: 7.0988e-04\n",
      "Epoch 45/100\n",
      "309/309 [==============================] - 2s 7ms/step - loss: 3.5957e-04 - val_loss: 7.5015e-04\n",
      "Epoch 46/100\n",
      "309/309 [==============================] - 2s 7ms/step - loss: 1.5765e-04 - val_loss: 6.8250e-04\n",
      "Epoch 47/100\n",
      "309/309 [==============================] - 2s 7ms/step - loss: 8.3877e-05 - val_loss: 7.4546e-04\n",
      "Epoch 48/100\n",
      "309/309 [==============================] - 2s 7ms/step - loss: 1.8354e-04 - val_loss: 6.7952e-04\n",
      "Epoch 49/100\n",
      "309/309 [==============================] - 2s 7ms/step - loss: 2.7840e-04 - val_loss: 6.4316e-04\n",
      "Epoch 50/100\n",
      "309/309 [==============================] - 2s 7ms/step - loss: 1.4668e-04 - val_loss: 5.6591e-04\n",
      "Epoch 51/100\n",
      "309/309 [==============================] - 2s 7ms/step - loss: 1.2235e-04 - val_loss: 5.7719e-04\n",
      "Epoch 52/100\n",
      "309/309 [==============================] - 2s 7ms/step - loss: 2.4811e-04 - val_loss: 5.8571e-04\n",
      "Epoch 53/100\n",
      "309/309 [==============================] - 2s 7ms/step - loss: 2.4159e-04 - val_loss: 7.6130e-04\n",
      "Epoch 54/100\n",
      "309/309 [==============================] - 2s 7ms/step - loss: 1.0446e-04 - val_loss: 5.9409e-04\n",
      "Epoch 55/100\n",
      "309/309 [==============================] - 2s 7ms/step - loss: 1.7903e-04 - val_loss: 7.4552e-04\n",
      "Epoch 56/100\n",
      "309/309 [==============================] - 2s 7ms/step - loss: 3.1857e-04 - val_loss: 8.2798e-04\n",
      "Epoch 57/100\n",
      "309/309 [==============================] - 2s 7ms/step - loss: 1.1868e-04 - val_loss: 6.1937e-04\n",
      "Epoch 58/100\n",
      "309/309 [==============================] - 2s 7ms/step - loss: 3.1155e-04 - val_loss: 7.4856e-04\n",
      "Epoch 59/100\n",
      "309/309 [==============================] - 2s 7ms/step - loss: 1.6999e-04 - val_loss: 6.0472e-04\n",
      "Epoch 60/100\n",
      "309/309 [==============================] - 2s 7ms/step - loss: 2.4367e-04 - val_loss: 8.2111e-04\n",
      "Epoch 61/100\n",
      "309/309 [==============================] - 2s 7ms/step - loss: 1.5034e-04 - val_loss: 5.9702e-04\n",
      "Epoch 62/100\n",
      "309/309 [==============================] - 2s 7ms/step - loss: 2.4597e-04 - val_loss: 7.3124e-04\n",
      "Epoch 63/100\n",
      "309/309 [==============================] - 2s 7ms/step - loss: 1.3505e-04 - val_loss: 6.4687e-04\n",
      "Epoch 64/100\n",
      "309/309 [==============================] - 2s 7ms/step - loss: 1.5753e-04 - val_loss: 5.4720e-04\n",
      "Epoch 65/100\n",
      "309/309 [==============================] - 2s 7ms/step - loss: 1.3242e-04 - val_loss: 9.2618e-04\n",
      "Epoch 66/100\n",
      "309/309 [==============================] - 2s 7ms/step - loss: 1.6539e-04 - val_loss: 4.8141e-04\n",
      "Epoch 67/100\n",
      "309/309 [==============================] - 2s 7ms/step - loss: 9.7954e-05 - val_loss: 5.6234e-04\n",
      "Epoch 68/100\n",
      "309/309 [==============================] - 2s 7ms/step - loss: 5.7812e-05 - val_loss: 6.2273e-04\n",
      "Epoch 69/100\n",
      "309/309 [==============================] - 2s 7ms/step - loss: 1.5785e-04 - val_loss: 5.0260e-04\n",
      "Epoch 70/100\n",
      "309/309 [==============================] - 2s 7ms/step - loss: 7.9022e-05 - val_loss: 5.8859e-04\n",
      "Epoch 71/100\n",
      "309/309 [==============================] - 2s 7ms/step - loss: 1.6589e-04 - val_loss: 5.1169e-04\n",
      "Epoch 72/100\n",
      "309/309 [==============================] - 2s 7ms/step - loss: 1.2487e-04 - val_loss: 5.6015e-04\n",
      "Epoch 73/100\n",
      "309/309 [==============================] - 2s 7ms/step - loss: 1.7129e-04 - val_loss: 6.8322e-04\n",
      "Epoch 74/100\n",
      "309/309 [==============================] - 3s 9ms/step - loss: 6.7369e-05 - val_loss: 5.6772e-04\n",
      "Epoch 75/100\n"
     ]
    },
    {
     "name": "stdout",
     "output_type": "stream",
     "text": [
      "309/309 [==============================] - 2s 8ms/step - loss: 2.7097e-04 - val_loss: 6.8599e-04\n",
      "Epoch 76/100\n",
      "309/309 [==============================] - 3s 8ms/step - loss: 1.4005e-04 - val_loss: 6.9182e-04\n",
      "Epoch 77/100\n",
      "309/309 [==============================] - 3s 9ms/step - loss: 1.8439e-04 - val_loss: 5.3400e-04\n",
      "Epoch 78/100\n",
      "309/309 [==============================] - 2s 8ms/step - loss: 7.0331e-05 - val_loss: 4.9164e-04\n",
      "Epoch 79/100\n",
      "309/309 [==============================] - 2s 7ms/step - loss: 1.8125e-04 - val_loss: 5.5402e-04\n",
      "Epoch 80/100\n",
      "309/309 [==============================] - 2s 8ms/step - loss: 8.3666e-05 - val_loss: 7.1713e-04\n",
      "Epoch 81/100\n",
      "309/309 [==============================] - 2s 8ms/step - loss: 1.4196e-04 - val_loss: 4.9167e-04\n",
      "Epoch 82/100\n",
      "309/309 [==============================] - 2s 7ms/step - loss: 1.1686e-04 - val_loss: 6.4080e-04\n",
      "Epoch 83/100\n",
      "309/309 [==============================] - 2s 8ms/step - loss: 1.3981e-04 - val_loss: 5.4339e-04\n",
      "Epoch 84/100\n",
      "309/309 [==============================] - 2s 8ms/step - loss: 9.7360e-05 - val_loss: 5.8414e-04\n",
      "Epoch 85/100\n",
      "309/309 [==============================] - 2s 8ms/step - loss: 9.4581e-05 - val_loss: 7.2808e-04\n",
      "Epoch 86/100\n",
      "309/309 [==============================] - 2s 8ms/step - loss: 3.4815e-04 - val_loss: 7.4605e-04\n",
      "Epoch 87/100\n",
      "309/309 [==============================] - 2s 7ms/step - loss: 9.9899e-05 - val_loss: 5.6524e-04\n",
      "Epoch 88/100\n",
      "309/309 [==============================] - 2s 7ms/step - loss: 2.2290e-04 - val_loss: 8.1044e-04\n",
      "Epoch 89/100\n",
      "309/309 [==============================] - 2s 8ms/step - loss: 1.0882e-04 - val_loss: 8.6809e-04\n",
      "Epoch 90/100\n",
      "309/309 [==============================] - 2s 7ms/step - loss: 3.2122e-04 - val_loss: 8.6108e-04\n",
      "Epoch 91/100\n",
      "309/309 [==============================] - 2s 8ms/step - loss: 1.5607e-04 - val_loss: 6.6609e-04\n",
      "Epoch 92/100\n",
      "309/309 [==============================] - 2s 8ms/step - loss: 1.1365e-04 - val_loss: 6.5460e-04\n",
      "Epoch 93/100\n",
      "309/309 [==============================] - 2s 7ms/step - loss: 1.0104e-04 - val_loss: 6.1281e-04\n",
      "Epoch 94/100\n",
      "309/309 [==============================] - 2s 7ms/step - loss: 1.0646e-04 - val_loss: 5.2472e-04\n",
      "Epoch 95/100\n",
      "309/309 [==============================] - 2s 7ms/step - loss: 1.7975e-04 - val_loss: 6.6762e-04\n",
      "Epoch 96/100\n",
      "309/309 [==============================] - 2s 7ms/step - loss: 1.2286e-04 - val_loss: 7.5332e-04\n",
      "Epoch 97/100\n",
      "309/309 [==============================] - 2s 7ms/step - loss: 1.1072e-04 - val_loss: 4.8246e-04\n",
      "Epoch 98/100\n",
      "309/309 [==============================] - 2s 7ms/step - loss: 7.7472e-05 - val_loss: 6.7167e-04\n",
      "Epoch 99/100\n",
      "309/309 [==============================] - 2s 7ms/step - loss: 1.9373e-04 - val_loss: 5.5106e-04\n",
      "Epoch 100/100\n",
      "309/309 [==============================] - 2s 7ms/step - loss: 1.0806e-04 - val_loss: 8.0652e-04\n"
     ]
    }
   ],
   "source": [
    "# 학습\n",
    "history = rnn_model.fit(x_train, y_train, \n",
    "                    epochs=100, \n",
    "                    batch_size=16,\n",
    "                    validation_data=(x_valid, y_valid),\n",
    "                    verbose= 1)"
   ]
  },
  {
   "cell_type": "code",
   "execution_count": 18,
   "metadata": {},
   "outputs": [
    {
     "name": "stderr",
     "output_type": "stream",
     "text": [
      "findfont: Font family ['NanumGothic'] not found. Falling back to DejaVu Sans.\n"
     ]
    },
    {
     "data": {
      "image/png": "[encoded data removed]",
      "text/plain": [
       "<Figure size 576x576 with 1 Axes>"
      ]
     },
     "metadata": {
      "needs_background": "light"
     },
     "output_type": "display_data"
    }
   ],
   "source": [
    "loss = history.history['loss']\n",
    "val_loss = history.history['val_loss'] \n",
    "plt.figure(figsize=(8, 8)) \n",
    "plt.plot(loss, label='Training Loss') \n",
    "plt.plot(val_loss, label='Validation Loss') \n",
    "plt.legend(loc='upper right') \n",
    "plt.title('Training and Validation Loss') \n",
    "plt.xlabel('epoch') \n",
    "plt.show()"
   ]
  },
  {
   "cell_type": "code",
   "execution_count": 19,
   "metadata": {},
   "outputs": [],
   "source": [
    "# 예측\n",
    "pred = rnn_model.predict(test_feature)"
   ]
  },
  {
   "cell_type": "markdown",
   "metadata": {},
   "source": [
    "실제 데이터와 예측한 데이터 시각화"
   ]
  },
  {
   "cell_type": "code",
   "execution_count": 20,
   "metadata": {},
   "outputs": [
    {
     "data": {
      "image/png": "[encoded data removed]",
      "text/plain": [
       "<Figure size 864x648 with 1 Axes>"
      ]
     },
     "metadata": {
      "needs_background": "light"
     },
     "output_type": "display_data"
    }
   ],
   "source": [
    "plt.figure(figsize=(12, 9))\n",
    "plt.plot(test_label, label='actual')\n",
    "plt.plot(pred, label='prediction')\n",
    "plt.legend()\n",
    "plt.show()"
   ]
  },
  {
   "cell_type": "code",
   "execution_count": 21,
   "metadata": {},
   "outputs": [],
   "source": [
    "# Mape 정의\n",
    "# MAPE는 퍼센트 값을 가지며 0에 가까울수록 회귀 모형의 성능이 좋다고 해석할 수 있음\n",
    "def MAPE(Y_actual,Y_Predicted):\n",
    "    mape = np.mean(np.abs((Y_actual - Y_Predicted)/Y_actual))*100\n",
    "    return mape \n",
    "    \n",
    "# RMSE는 MSE에 ROOT값을 씌운 것\n",
    "# RMSE 정의\n",
    "from sklearn.metrics import mean_squared_error\n",
    "def RMSE(y_test, y_predict):\n",
    "    return np.sqrt(mean_squared_error(y_test, y_predict))"
   ]
  },
  {
   "cell_type": "code",
   "execution_count": 22,
   "metadata": {},
   "outputs": [
    {
     "name": "stdout",
     "output_type": "stream",
     "text": [
      "y를 Scaling한 RNN 모델의 MAPE :  3.9071609747690887\n",
      "y를 Scaling한 RNN 모델의 RMSE :  0.03998722003769663\n"
     ]
    }
   ],
   "source": [
    "print('y를 Scaling한 RNN 모델의 MAPE : ', MAPE(test_label, pred))\n",
    "print('y를 Scaling한 RNN 모델의 RMSE : ', RMSE(test_label, pred)) "
   ]
  },
  {
   "cell_type": "markdown",
   "metadata": {},
   "source": [
    "LSTM 모델 생성"
   ]
  },
  {
   "cell_type": "code",
   "execution_count": 23,
   "metadata": {},
   "outputs": [
    {
     "name": "stdout",
     "output_type": "stream",
     "text": [
      "Model: \"sequential_1\"\n",
      "_________________________________________________________________\n",
      "Layer (type)                 Output Shape              Param #   \n",
      "=================================================================\n",
      "lstm (LSTM)                  (None, 20, 32)            4736      \n",
      "_________________________________________________________________\n",
      "lstm_1 (LSTM)                (None, 32)                8320      \n",
      "_________________________________________________________________\n",
      "dense_1 (Dense)              (None, 1)                 33        \n",
      "=================================================================\n",
      "Total params: 13,089\n",
      "Trainable params: 13,089\n",
      "Non-trainable params: 0\n",
      "_________________________________________________________________\n"
     ]
    }
   ],
   "source": [
    "from keras.models import Sequential\n",
    "from keras.layers import Dense\n",
    "from keras.layers import LSTM\n",
    "\n",
    "lstm_model = Sequential()\n",
    "lstm_model.add(LSTM(32, \n",
    "               input_shape=(train_feature.shape[1], train_feature.shape[2]), \n",
    "               activation='relu', \n",
    "               return_sequences=True)\n",
    "          )\n",
    "lstm_model.add(LSTM(32, \n",
    "               activation='relu', \n",
    "               return_sequences=False)\n",
    "          )\n",
    "lstm_model.add(Dense(1))\n",
    "\n",
    "lstm_model.compile(loss='mean_squared_error', optimizer='adam')\n",
    "\n",
    "lstm_model.summary()"
   ]
  },
  {
   "cell_type": "code",
   "execution_count": 24,
   "metadata": {},
   "outputs": [
    {
     "name": "stdout",
     "output_type": "stream",
     "text": [
      "Epoch 1/100\n",
      "309/309 [==============================] - 12s 17ms/step - loss: 0.0139 - val_loss: 1.3373e-04\n",
      "Epoch 2/100\n",
      "309/309 [==============================] - 4s 13ms/step - loss: 1.2782e-04 - val_loss: 9.1380e-05\n",
      "Epoch 3/100\n",
      "309/309 [==============================] - 4s 13ms/step - loss: 1.1493e-04 - val_loss: 1.0600e-04\n",
      "Epoch 4/100\n",
      "309/309 [==============================] - 4s 13ms/step - loss: 1.2155e-04 - val_loss: 7.9084e-05\n",
      "Epoch 5/100\n",
      "309/309 [==============================] - 4s 13ms/step - loss: 1.0355e-04 - val_loss: 2.6695e-04\n",
      "Epoch 6/100\n",
      "309/309 [==============================] - 5s 17ms/step - loss: 1.3378e-04 - val_loss: 8.5017e-05\n",
      "Epoch 7/100\n",
      "309/309 [==============================] - 4s 13ms/step - loss: 1.0445e-04 - val_loss: 1.0948e-04\n",
      "Epoch 8/100\n",
      "309/309 [==============================] - 4s 13ms/step - loss: 9.6842e-05 - val_loss: 1.4677e-04\n",
      "Epoch 9/100\n",
      "309/309 [==============================] - 5s 15ms/step - loss: 1.0756e-04 - val_loss: 6.6330e-05\n",
      "Epoch 10/100\n",
      "309/309 [==============================] - 4s 14ms/step - loss: 9.4391e-05 - val_loss: 6.3586e-05\n",
      "Epoch 11/100\n",
      "309/309 [==============================] - 4s 14ms/step - loss: 8.5322e-05 - val_loss: 1.1209e-04\n",
      "Epoch 12/100\n",
      "309/309 [==============================] - 4s 12ms/step - loss: 8.9660e-05 - val_loss: 5.5770e-05\n",
      "Epoch 13/100\n",
      "309/309 [==============================] - 5s 17ms/step - loss: 8.3892e-05 - val_loss: 5.6697e-05\n",
      "Epoch 14/100\n",
      "309/309 [==============================] - 4s 12ms/step - loss: 7.2174e-05 - val_loss: 8.0050e-05\n",
      "Epoch 15/100\n",
      "309/309 [==============================] - 4s 12ms/step - loss: 6.9131e-05 - val_loss: 5.6174e-05\n",
      "Epoch 16/100\n",
      "309/309 [==============================] - 5s 15ms/step - loss: 7.8806e-05 - val_loss: 5.5576e-05\n",
      "Epoch 17/100\n",
      "309/309 [==============================] - 5s 15ms/step - loss: 7.4355e-05 - val_loss: 5.6457e-05\n",
      "Epoch 18/100\n",
      "309/309 [==============================] - 4s 14ms/step - loss: 6.9917e-05 - val_loss: 8.9526e-05\n",
      "Epoch 19/100\n",
      "309/309 [==============================] - 4s 13ms/step - loss: 7.2012e-05 - val_loss: 4.2161e-05\n",
      "Epoch 20/100\n",
      "309/309 [==============================] - 4s 14ms/step - loss: 6.3925e-05 - val_loss: 7.0988e-05\n",
      "Epoch 21/100\n",
      "309/309 [==============================] - 4s 14ms/step - loss: 6.6100e-05 - val_loss: 4.9350e-05\n",
      "Epoch 22/100\n",
      "309/309 [==============================] - 4s 14ms/step - loss: 6.0335e-05 - val_loss: 5.1279e-05\n",
      "Epoch 23/100\n",
      "309/309 [==============================] - 4s 14ms/step - loss: 5.5076e-05 - val_loss: 4.2757e-05\n",
      "Epoch 24/100\n",
      "309/309 [==============================] - 4s 13ms/step - loss: 5.2893e-05 - val_loss: 4.3063e-05\n",
      "Epoch 25/100\n",
      "309/309 [==============================] - 4s 14ms/step - loss: 5.2853e-05 - val_loss: 3.8944e-05\n",
      "Epoch 26/100\n",
      "309/309 [==============================] - 4s 13ms/step - loss: 5.0388e-05 - val_loss: 3.8909e-05\n",
      "Epoch 27/100\n",
      "309/309 [==============================] - 4s 15ms/step - loss: 4.3965e-05 - val_loss: 6.4108e-05\n",
      "Epoch 28/100\n",
      "309/309 [==============================] - 4s 13ms/step - loss: 4.7879e-05 - val_loss: 3.3674e-05\n",
      "Epoch 29/100\n",
      "309/309 [==============================] - 4s 14ms/step - loss: 4.6707e-05 - val_loss: 3.9542e-05\n",
      "Epoch 30/100\n",
      "309/309 [==============================] - 4s 13ms/step - loss: 4.9360e-05 - val_loss: 4.4808e-05\n",
      "Epoch 31/100\n",
      "309/309 [==============================] - 4s 13ms/step - loss: 4.2241e-05 - val_loss: 4.6891e-05\n",
      "Epoch 32/100\n",
      "309/309 [==============================] - 4s 14ms/step - loss: 3.8647e-05 - val_loss: 3.5026e-05\n",
      "Epoch 33/100\n",
      "309/309 [==============================] - 4s 14ms/step - loss: 4.8550e-05 - val_loss: 3.7233e-05\n",
      "Epoch 34/100\n",
      "309/309 [==============================] - 4s 14ms/step - loss: 4.0683e-05 - val_loss: 4.6377e-05\n",
      "Epoch 35/100\n",
      "309/309 [==============================] - 4s 14ms/step - loss: 4.0813e-05 - val_loss: 3.8571e-05\n",
      "Epoch 36/100\n",
      "309/309 [==============================] - 5s 15ms/step - loss: 4.1274e-05 - val_loss: 9.4402e-05oss: 4.0165e- - ETA: \n",
      "Epoch 37/100\n",
      "309/309 [==============================] - 4s 14ms/step - loss: 4.7851e-05 - val_loss: 7.2738e-05\n",
      "Epoch 38/100\n",
      "309/309 [==============================] - 4s 14ms/step - loss: 4.1723e-05 - val_loss: 2.8733e-05\n",
      "Epoch 39/100\n",
      "309/309 [==============================] - 5s 17ms/step - loss: 3.5149e-05 - val_loss: 4.5172e-05\n",
      "Epoch 40/100\n",
      "309/309 [==============================] - 5s 15ms/step - loss: 3.6553e-05 - val_loss: 3.2348e-05\n",
      "Epoch 41/100\n",
      "309/309 [==============================] - 5s 15ms/step - loss: 3.4899e-05 - val_loss: 2.9222e-05\n",
      "Epoch 42/100\n",
      "309/309 [==============================] - 5s 16ms/step - loss: 3.2922e-05 - val_loss: 3.9590e-05\n",
      "Epoch 43/100\n",
      "309/309 [==============================] - 4s 13ms/step - loss: 3.6777e-05 - val_loss: 3.6563e-05- ETA: 1\n",
      "Epoch 44/100\n",
      "309/309 [==============================] - 4s 13ms/step - loss: 4.1951e-05 - val_loss: 3.4413e-05\n",
      "Epoch 45/100\n",
      "309/309 [==============================] - 4s 14ms/step - loss: 3.1006e-05 - val_loss: 3.3721e-05\n",
      "Epoch 46/100\n",
      "309/309 [==============================] - 4s 14ms/step - loss: 3.4426e-05 - val_loss: 5.6868e-05\n",
      "Epoch 47/100\n",
      "309/309 [==============================] - 4s 14ms/step - loss: 3.3982e-05 - val_loss: 5.6863e-05\n",
      "Epoch 48/100\n",
      "309/309 [==============================] - 4s 14ms/step - loss: 3.8123e-05 - val_loss: 4.3223e-05\n",
      "Epoch 49/100\n",
      "309/309 [==============================] - 4s 13ms/step - loss: 3.5204e-05 - val_loss: 4.1892e-05\n",
      "Epoch 50/100\n",
      "309/309 [==============================] - 4s 14ms/step - loss: 3.0388e-05 - val_loss: 5.9582e-05\n",
      "Epoch 51/100\n",
      "309/309 [==============================] - 4s 13ms/step - loss: 3.3277e-05 - val_loss: 3.4656e-05\n",
      "Epoch 52/100\n",
      "309/309 [==============================] - 4s 13ms/step - loss: 3.2244e-05 - val_loss: 4.8287e-05\n",
      "Epoch 53/100\n",
      "309/309 [==============================] - 4s 13ms/step - loss: 4.9157e-05 - val_loss: 4.3138e-05\n",
      "Epoch 54/100\n",
      "309/309 [==============================] - 4s 13ms/step - loss: 3.4802e-05 - val_loss: 2.6015e-05\n",
      "Epoch 55/100\n",
      "309/309 [==============================] - 4s 13ms/step - loss: 3.2818e-05 - val_loss: 2.8024e-05\n",
      "Epoch 56/100\n",
      "309/309 [==============================] - 4s 13ms/step - loss: 3.5494e-05 - val_loss: 5.2717e-05\n",
      "Epoch 57/100\n",
      "309/309 [==============================] - 4s 13ms/step - loss: 3.3130e-05 - val_loss: 3.1614e-05\n",
      "Epoch 58/100\n",
      "309/309 [==============================] - 4s 13ms/step - loss: 3.2396e-05 - val_loss: 7.8730e-05\n",
      "Epoch 59/100\n",
      "309/309 [==============================] - 4s 13ms/step - loss: 3.4797e-05 - val_loss: 8.3731e-05\n",
      "Epoch 60/100\n",
      "309/309 [==============================] - 4s 13ms/step - loss: 3.7865e-05 - val_loss: 2.9077e-05\n",
      "Epoch 61/100\n",
      "309/309 [==============================] - 4s 13ms/step - loss: 2.6823e-05 - val_loss: 4.6634e-05\n",
      "Epoch 62/100\n",
      "309/309 [==============================] - 4s 13ms/step - loss: 2.9548e-05 - val_loss: 4.3501e-05\n",
      "Epoch 63/100\n",
      "309/309 [==============================] - 4s 14ms/step - loss: 3.2288e-05 - val_loss: 2.4443e-05\n",
      "Epoch 64/100\n",
      "309/309 [==============================] - 4s 14ms/step - loss: 3.0723e-05 - val_loss: 3.7459e-05\n",
      "Epoch 65/100\n",
      "309/309 [==============================] - 4s 13ms/step - loss: 3.8484e-05 - val_loss: 3.6274e-05\n",
      "Epoch 66/100\n",
      "309/309 [==============================] - 4s 13ms/step - loss: 2.7986e-05 - val_loss: 6.7926e-05\n",
      "Epoch 67/100\n",
      "309/309 [==============================] - 4s 13ms/step - loss: 3.3627e-05 - val_loss: 3.1647e-05\n",
      "Epoch 68/100\n",
      "309/309 [==============================] - 4s 13ms/step - loss: 2.9825e-05 - val_loss: 2.4588e-05\n",
      "Epoch 69/100\n",
      "309/309 [==============================] - 4s 13ms/step - loss: 3.1947e-05 - val_loss: 4.3377e-05\n",
      "Epoch 70/100\n",
      "309/309 [==============================] - 4s 13ms/step - loss: 3.5285e-05 - val_loss: 3.3068e-05\n",
      "Epoch 71/100\n",
      "309/309 [==============================] - 4s 14ms/step - loss: 2.8039e-05 - val_loss: 2.4432e-05\n",
      "Epoch 72/100\n",
      "309/309 [==============================] - 4s 14ms/step - loss: 3.0856e-05 - val_loss: 2.9055e-05\n",
      "Epoch 73/100\n",
      "309/309 [==============================] - 5s 15ms/step - loss: 3.3825e-05 - val_loss: 3.3137e-05\n",
      "Epoch 74/100\n"
     ]
    },
    {
     "name": "stdout",
     "output_type": "stream",
     "text": [
      "309/309 [==============================] - 4s 14ms/step - loss: 2.7338e-05 - val_loss: 2.9748e-05\n",
      "Epoch 75/100\n",
      "309/309 [==============================] - 5s 15ms/step - loss: 3.1129e-05 - val_loss: 3.0300e-05\n",
      "Epoch 76/100\n",
      "309/309 [==============================] - 5s 17ms/step - loss: 2.8696e-05 - val_loss: 3.5293e-05\n",
      "Epoch 77/100\n",
      "309/309 [==============================] - 4s 13ms/step - loss: 2.8812e-05 - val_loss: 3.6359e-05 2s - lo\n",
      "Epoch 78/100\n",
      "309/309 [==============================] - 4s 14ms/step - loss: 2.9773e-05 - val_loss: 2.6333e-05\n",
      "Epoch 79/100\n",
      "309/309 [==============================] - 5s 17ms/step - loss: 3.2559e-05 - val_loss: 4.3161e-05\n",
      "Epoch 80/100\n",
      "309/309 [==============================] - 6s 18ms/step - loss: 3.0074e-05 - val_loss: 6.6765e-05\n",
      "Epoch 81/100\n",
      "309/309 [==============================] - 4s 14ms/step - loss: 2.8491e-05 - val_loss: 2.3470e-05\n",
      "Epoch 82/100\n",
      "309/309 [==============================] - 4s 14ms/step - loss: 2.7243e-05 - val_loss: 4.3613e-05\n",
      "Epoch 83/100\n",
      "309/309 [==============================] - 6s 18ms/step - loss: 2.8117e-05 - val_loss: 5.5633e-05\n",
      "Epoch 84/100\n",
      "309/309 [==============================] - 5s 16ms/step - loss: 3.8841e-05 - val_loss: 3.1958e-05\n",
      "Epoch 85/100\n",
      "309/309 [==============================] - 4s 14ms/step - loss: 2.9790e-05 - val_loss: 2.3629e-05\n",
      "Epoch 86/100\n",
      "309/309 [==============================] - 4s 13ms/step - loss: 3.0231e-05 - val_loss: 2.7445e-05\n",
      "Epoch 87/100\n",
      "309/309 [==============================] - 4s 14ms/step - loss: 3.1388e-05 - val_loss: 4.4733e-05\n",
      "Epoch 88/100\n",
      "309/309 [==============================] - 4s 13ms/step - loss: 2.9863e-05 - val_loss: 3.1569e-05\n",
      "Epoch 89/100\n",
      "309/309 [==============================] - 4s 14ms/step - loss: 3.0500e-05 - val_loss: 4.0706e-05\n",
      "Epoch 90/100\n",
      "309/309 [==============================] - 4s 14ms/step - loss: 2.9647e-05 - val_loss: 2.4744e-05\n",
      "Epoch 91/100\n",
      "309/309 [==============================] - 5s 15ms/step - loss: 2.8094e-05 - val_loss: 2.7155e-05\n",
      "Epoch 92/100\n",
      "309/309 [==============================] - 4s 14ms/step - loss: 3.1904e-05 - val_loss: 2.8788e-05\n",
      "Epoch 93/100\n",
      "309/309 [==============================] - 4s 13ms/step - loss: 2.9627e-05 - val_loss: 2.3614e-05\n",
      "Epoch 94/100\n",
      "309/309 [==============================] - 4s 14ms/step - loss: 2.8443e-05 - val_loss: 3.2484e-05\n",
      "Epoch 95/100\n",
      "309/309 [==============================] - 4s 14ms/step - loss: 2.5394e-05 - val_loss: 2.6559e-05\n",
      "Epoch 96/100\n",
      "309/309 [==============================] - 4s 14ms/step - loss: 2.7824e-05 - val_loss: 4.8704e-05\n",
      "Epoch 97/100\n",
      "309/309 [==============================] - 4s 13ms/step - loss: 3.0678e-05 - val_loss: 2.5989e-05\n",
      "Epoch 98/100\n",
      "309/309 [==============================] - 4s 14ms/step - loss: 2.9704e-05 - val_loss: 5.3039e-05\n",
      "Epoch 99/100\n",
      "309/309 [==============================] - 4s 14ms/step - loss: 2.9247e-05 - val_loss: 2.5314e-05\n",
      "Epoch 100/100\n",
      "309/309 [==============================] - 4s 13ms/step - loss: 2.9176e-05 - val_loss: 3.3009e-05\n"
     ]
    }
   ],
   "source": [
    "# 학습\n",
    "history = lstm_model.fit(x_train, y_train, \n",
    "                    epochs=100, \n",
    "                    batch_size=16,\n",
    "                    validation_data=(x_valid, y_valid),\n",
    "                    verbose= 1)"
   ]
  },
  {
   "cell_type": "code",
   "execution_count": 25,
   "metadata": {},
   "outputs": [
    {
     "data": {
      "image/png": "[encoded data removed]",
      "text/plain": [
       "<Figure size 576x576 with 1 Axes>"
      ]
     },
     "metadata": {
      "needs_background": "light"
     },
     "output_type": "display_data"
    }
   ],
   "source": [
    "loss = history.history['loss']\n",
    "val_loss = history.history['val_loss'] \n",
    "plt.figure(figsize=(8, 8)) \n",
    "plt.plot(loss, label='Training Loss') \n",
    "plt.plot(val_loss, label='Validation Loss') \n",
    "plt.legend(loc='upper right') \n",
    "plt.title('Training and Validation Loss') \n",
    "plt.xlabel('epoch') \n",
    "plt.show()"
   ]
  },
  {
   "cell_type": "code",
   "execution_count": 26,
   "metadata": {},
   "outputs": [],
   "source": [
    "# 예측\n",
    "pred = lstm_model.predict(test_feature)"
   ]
  },
  {
   "cell_type": "code",
   "execution_count": 27,
   "metadata": {},
   "outputs": [
    {
     "data": {
      "image/png": "[encoded data removed]",
      "text/plain": [
       "<Figure size 864x648 with 1 Axes>"
      ]
     },
     "metadata": {
      "needs_background": "light"
     },
     "output_type": "display_data"
    }
   ],
   "source": [
    "plt.figure(figsize=(12, 9))\n",
    "plt.plot(test_label, label='actual')\n",
    "plt.plot(pred, label='prediction')\n",
    "plt.legend()\n",
    "plt.show()"
   ]
  },
  {
   "cell_type": "code",
   "execution_count": 28,
   "metadata": {},
   "outputs": [
    {
     "name": "stdout",
     "output_type": "stream",
     "text": [
      "y를 Scaling한 LSTM 모델의 MAPE :  2.7917945070252412\n",
      "y를 Scaling한 LSTM 모델의 RMSE :  0.02676055203076585\n"
     ]
    }
   ],
   "source": [
    "print('y를 Scaling한 LSTM 모델의 MAPE : ', MAPE(test_label, pred))\n",
    "print('y를 Scaling한 LSTM 모델의 RMSE : ', RMSE(test_label, pred)) "
   ]
  },
  {
   "cell_type": "markdown",
   "metadata": {},
   "source": [
    "y를 scaling 하지않은 전처리"
   ]
  },
  {
   "cell_type": "code",
   "execution_count": 29,
   "metadata": {},
   "outputs": [],
   "source": [
    "# 데이터 다시 호출\n",
    "\n",
    "# 삼성전자(005930) 전체 (1996-11-05 ~ 현재)\n",
    "samsung = fdr.DataReader('005930')"
   ]
  },
  {
   "cell_type": "code",
   "execution_count": 30,
   "metadata": {},
   "outputs": [
    {
     "data": {
      "text/html": [
       "<div>\n",
       "<style scoped>\n",
       "    .dataframe tbody tr th:only-of-type {\n",
       "        vertical-align: middle;\n",
       "    }\n",
       "\n",
       "    .dataframe tbody tr th {\n",
       "        vertical-align: top;\n",
       "    }\n",
       "\n",
       "    .dataframe thead th {\n",
       "        text-align: right;\n",
       "    }\n",
       "</style>\n",
       "<table border=\"1\" class=\"dataframe\">\n",
       "  <thead>\n",
       "    <tr style=\"text-align: right;\">\n",
       "      <th></th>\n",
       "      <th>Open</th>\n",
       "      <th>High</th>\n",
       "      <th>Low</th>\n",
       "      <th>Close</th>\n",
       "      <th>Volume</th>\n",
       "      <th>Change</th>\n",
       "    </tr>\n",
       "    <tr>\n",
       "      <th>Date</th>\n",
       "      <th></th>\n",
       "      <th></th>\n",
       "      <th></th>\n",
       "      <th></th>\n",
       "      <th></th>\n",
       "      <th></th>\n",
       "    </tr>\n",
       "  </thead>\n",
       "  <tbody>\n",
       "    <tr>\n",
       "      <th>1998-02-02</th>\n",
       "      <td>1495</td>\n",
       "      <td>1557</td>\n",
       "      <td>1486</td>\n",
       "      <td>1489</td>\n",
       "      <td>675460</td>\n",
       "      <td>NaN</td>\n",
       "    </tr>\n",
       "    <tr>\n",
       "      <th>1998-02-03</th>\n",
       "      <td>1561</td>\n",
       "      <td>1563</td>\n",
       "      <td>1436</td>\n",
       "      <td>1472</td>\n",
       "      <td>666120</td>\n",
       "      <td>-0.011417</td>\n",
       "    </tr>\n",
       "    <tr>\n",
       "      <th>1998-02-04</th>\n",
       "      <td>1488</td>\n",
       "      <td>1515</td>\n",
       "      <td>1443</td>\n",
       "      <td>1452</td>\n",
       "      <td>497530</td>\n",
       "      <td>-0.013587</td>\n",
       "    </tr>\n",
       "    <tr>\n",
       "      <th>1998-02-05</th>\n",
       "      <td>1416</td>\n",
       "      <td>1446</td>\n",
       "      <td>1336</td>\n",
       "      <td>1336</td>\n",
       "      <td>485790</td>\n",
       "      <td>-0.079890</td>\n",
       "    </tr>\n",
       "    <tr>\n",
       "      <th>1998-02-06</th>\n",
       "      <td>1441</td>\n",
       "      <td>1441</td>\n",
       "      <td>1406</td>\n",
       "      <td>1441</td>\n",
       "      <td>1278060</td>\n",
       "      <td>0.078593</td>\n",
       "    </tr>\n",
       "  </tbody>\n",
       "</table>\n",
       "</div>"
      ],
      "text/plain": [
       "            Open  High   Low  Close   Volume    Change\n",
       "Date                                                  \n",
       "1998-02-02  1495  1557  1486   1489   675460       NaN\n",
       "1998-02-03  1561  1563  1436   1472   666120 -0.011417\n",
       "1998-02-04  1488  1515  1443   1452   497530 -0.013587\n",
       "1998-02-05  1416  1446  1336   1336   485790 -0.079890\n",
       "1998-02-06  1441  1441  1406   1441  1278060  0.078593"
      ]
     },
     "execution_count": 30,
     "metadata": {},
     "output_type": "execute_result"
    }
   ],
   "source": [
    "samsung.head()"
   ]
  },
  {
   "cell_type": "code",
   "execution_count": 31,
   "metadata": {},
   "outputs": [
    {
     "data": {
      "text/html": [
       "<div>\n",
       "<style scoped>\n",
       "    .dataframe tbody tr th:only-of-type {\n",
       "        vertical-align: middle;\n",
       "    }\n",
       "\n",
       "    .dataframe tbody tr th {\n",
       "        vertical-align: top;\n",
       "    }\n",
       "\n",
       "    .dataframe thead th {\n",
       "        text-align: right;\n",
       "    }\n",
       "</style>\n",
       "<table border=\"1\" class=\"dataframe\">\n",
       "  <thead>\n",
       "    <tr style=\"text-align: right;\">\n",
       "      <th></th>\n",
       "      <th>Open</th>\n",
       "      <th>High</th>\n",
       "      <th>Low</th>\n",
       "      <th>Volume</th>\n",
       "    </tr>\n",
       "  </thead>\n",
       "  <tbody>\n",
       "    <tr>\n",
       "      <th>0</th>\n",
       "      <td>0.016556</td>\n",
       "      <td>0.016085</td>\n",
       "      <td>0.016603</td>\n",
       "      <td>0.007480</td>\n",
       "    </tr>\n",
       "    <tr>\n",
       "      <th>1</th>\n",
       "      <td>0.017287</td>\n",
       "      <td>0.016147</td>\n",
       "      <td>0.016045</td>\n",
       "      <td>0.007376</td>\n",
       "    </tr>\n",
       "    <tr>\n",
       "      <th>2</th>\n",
       "      <td>0.016478</td>\n",
       "      <td>0.015651</td>\n",
       "      <td>0.016123</td>\n",
       "      <td>0.005509</td>\n",
       "    </tr>\n",
       "    <tr>\n",
       "      <th>3</th>\n",
       "      <td>0.015681</td>\n",
       "      <td>0.014938</td>\n",
       "      <td>0.014927</td>\n",
       "      <td>0.005379</td>\n",
       "    </tr>\n",
       "    <tr>\n",
       "      <th>4</th>\n",
       "      <td>0.015958</td>\n",
       "      <td>0.014886</td>\n",
       "      <td>0.015709</td>\n",
       "      <td>0.014153</td>\n",
       "    </tr>\n",
       "  </tbody>\n",
       "</table>\n",
       "</div>"
      ],
      "text/plain": [
       "       Open      High       Low    Volume\n",
       "0  0.016556  0.016085  0.016603  0.007480\n",
       "1  0.017287  0.016147  0.016045  0.007376\n",
       "2  0.016478  0.015651  0.016123  0.005509\n",
       "3  0.015681  0.014938  0.014927  0.005379\n",
       "4  0.015958  0.014886  0.015709  0.014153"
      ]
     },
     "execution_count": 31,
     "metadata": {},
     "output_type": "execute_result"
    }
   ],
   "source": [
    "scaler = MinMaxScaler()\n",
    "# 스케일을 적용할 column을 정의합니다. (y인 Close까지 정규화 적용)\n",
    "scale_cols = ['Open', 'High', 'Low', 'Volume']\n",
    "# 스케일 후 columns\n",
    "scaled = scaler.fit_transform(samsung[scale_cols])\n",
    "\n",
    "df = pd.DataFrame(scaled, columns=scale_cols)\n",
    "df.head()"
   ]
  },
  {
   "cell_type": "code",
   "execution_count": 32,
   "metadata": {},
   "outputs": [
    {
     "data": {
      "text/html": [
       "<div>\n",
       "<style scoped>\n",
       "    .dataframe tbody tr th:only-of-type {\n",
       "        vertical-align: middle;\n",
       "    }\n",
       "\n",
       "    .dataframe tbody tr th {\n",
       "        vertical-align: top;\n",
       "    }\n",
       "\n",
       "    .dataframe thead th {\n",
       "        text-align: right;\n",
       "    }\n",
       "</style>\n",
       "<table border=\"1\" class=\"dataframe\">\n",
       "  <thead>\n",
       "    <tr style=\"text-align: right;\">\n",
       "      <th></th>\n",
       "      <th>Close</th>\n",
       "    </tr>\n",
       "    <tr>\n",
       "      <th>Date</th>\n",
       "      <th></th>\n",
       "    </tr>\n",
       "  </thead>\n",
       "  <tbody>\n",
       "    <tr>\n",
       "      <th>1998-02-02</th>\n",
       "      <td>1489</td>\n",
       "    </tr>\n",
       "    <tr>\n",
       "      <th>1998-02-03</th>\n",
       "      <td>1472</td>\n",
       "    </tr>\n",
       "    <tr>\n",
       "      <th>1998-02-04</th>\n",
       "      <td>1452</td>\n",
       "    </tr>\n",
       "    <tr>\n",
       "      <th>1998-02-05</th>\n",
       "      <td>1336</td>\n",
       "    </tr>\n",
       "    <tr>\n",
       "      <th>1998-02-06</th>\n",
       "      <td>1441</td>\n",
       "    </tr>\n",
       "  </tbody>\n",
       "</table>\n",
       "</div>"
      ],
      "text/plain": [
       "            Close\n",
       "Date             \n",
       "1998-02-02   1489\n",
       "1998-02-03   1472\n",
       "1998-02-04   1452\n",
       "1998-02-05   1336\n",
       "1998-02-06   1441"
      ]
     },
     "execution_count": 32,
     "metadata": {},
     "output_type": "execute_result"
    }
   ],
   "source": [
    "df_y = pd.DataFrame(samsung['Close'])\n",
    "df_y.head()"
   ]
  },
  {
   "cell_type": "code",
   "execution_count": 33,
   "metadata": {},
   "outputs": [],
   "source": [
    "# TEST_SIZE : 며칠을 Test data로 사용할 것인가\n",
    "TEST_SIZE = 500 # 500일을 사용\n",
    "\n",
    "train_x = df[:-TEST_SIZE]\n",
    "test_x = df[-TEST_SIZE:]\n",
    "train_y = df_y[:-TEST_SIZE]\n",
    "test_y = df_y[-TEST_SIZE:]"
   ]
  },
  {
   "cell_type": "code",
   "execution_count": 34,
   "metadata": {},
   "outputs": [
    {
     "data": {
      "text/html": [
       "<div>\n",
       "<style scoped>\n",
       "    .dataframe tbody tr th:only-of-type {\n",
       "        vertical-align: middle;\n",
       "    }\n",
       "\n",
       "    .dataframe tbody tr th {\n",
       "        vertical-align: top;\n",
       "    }\n",
       "\n",
       "    .dataframe thead th {\n",
       "        text-align: right;\n",
       "    }\n",
       "</style>\n",
       "<table border=\"1\" class=\"dataframe\">\n",
       "  <thead>\n",
       "    <tr style=\"text-align: right;\">\n",
       "      <th></th>\n",
       "      <th>Open</th>\n",
       "      <th>High</th>\n",
       "      <th>Low</th>\n",
       "      <th>Volume</th>\n",
       "    </tr>\n",
       "  </thead>\n",
       "  <tbody>\n",
       "    <tr>\n",
       "      <th>0</th>\n",
       "      <td>0.016556</td>\n",
       "      <td>0.016085</td>\n",
       "      <td>0.016603</td>\n",
       "      <td>0.007480</td>\n",
       "    </tr>\n",
       "    <tr>\n",
       "      <th>1</th>\n",
       "      <td>0.017287</td>\n",
       "      <td>0.016147</td>\n",
       "      <td>0.016045</td>\n",
       "      <td>0.007376</td>\n",
       "    </tr>\n",
       "    <tr>\n",
       "      <th>2</th>\n",
       "      <td>0.016478</td>\n",
       "      <td>0.015651</td>\n",
       "      <td>0.016123</td>\n",
       "      <td>0.005509</td>\n",
       "    </tr>\n",
       "    <tr>\n",
       "      <th>3</th>\n",
       "      <td>0.015681</td>\n",
       "      <td>0.014938</td>\n",
       "      <td>0.014927</td>\n",
       "      <td>0.005379</td>\n",
       "    </tr>\n",
       "    <tr>\n",
       "      <th>4</th>\n",
       "      <td>0.015958</td>\n",
       "      <td>0.014886</td>\n",
       "      <td>0.015709</td>\n",
       "      <td>0.014153</td>\n",
       "    </tr>\n",
       "    <tr>\n",
       "      <th>...</th>\n",
       "      <td>...</td>\n",
       "      <td>...</td>\n",
       "      <td>...</td>\n",
       "      <td>...</td>\n",
       "    </tr>\n",
       "    <tr>\n",
       "      <th>5495</th>\n",
       "      <td>0.601329</td>\n",
       "      <td>0.573347</td>\n",
       "      <td>0.598883</td>\n",
       "      <td>0.336670</td>\n",
       "    </tr>\n",
       "    <tr>\n",
       "      <th>5496</th>\n",
       "      <td>0.627907</td>\n",
       "      <td>0.587810</td>\n",
       "      <td>0.615642</td>\n",
       "      <td>0.335861</td>\n",
       "    </tr>\n",
       "    <tr>\n",
       "      <th>5497</th>\n",
       "      <td>0.606866</td>\n",
       "      <td>0.595041</td>\n",
       "      <td>0.610056</td>\n",
       "      <td>0.274242</td>\n",
       "    </tr>\n",
       "    <tr>\n",
       "      <th>5498</th>\n",
       "      <td>0.637874</td>\n",
       "      <td>0.599174</td>\n",
       "      <td>0.633520</td>\n",
       "      <td>0.240282</td>\n",
       "    </tr>\n",
       "    <tr>\n",
       "      <th>5499</th>\n",
       "      <td>0.625692</td>\n",
       "      <td>0.590909</td>\n",
       "      <td>0.627933</td>\n",
       "      <td>0.207258</td>\n",
       "    </tr>\n",
       "  </tbody>\n",
       "</table>\n",
       "<p>5500 rows × 4 columns</p>\n",
       "</div>"
      ],
      "text/plain": [
       "          Open      High       Low    Volume\n",
       "0     0.016556  0.016085  0.016603  0.007480\n",
       "1     0.017287  0.016147  0.016045  0.007376\n",
       "2     0.016478  0.015651  0.016123  0.005509\n",
       "3     0.015681  0.014938  0.014927  0.005379\n",
       "4     0.015958  0.014886  0.015709  0.014153\n",
       "...        ...       ...       ...       ...\n",
       "5495  0.601329  0.573347  0.598883  0.336670\n",
       "5496  0.627907  0.587810  0.615642  0.335861\n",
       "5497  0.606866  0.595041  0.610056  0.274242\n",
       "5498  0.637874  0.599174  0.633520  0.240282\n",
       "5499  0.625692  0.590909  0.627933  0.207258\n",
       "\n",
       "[5500 rows x 4 columns]"
      ]
     },
     "execution_count": 34,
     "metadata": {},
     "output_type": "execute_result"
    }
   ],
   "source": [
    "train_x"
   ]
  },
  {
   "cell_type": "code",
   "execution_count": 35,
   "metadata": {},
   "outputs": [
    {
     "data": {
      "text/html": [
       "<div>\n",
       "<style scoped>\n",
       "    .dataframe tbody tr th:only-of-type {\n",
       "        vertical-align: middle;\n",
       "    }\n",
       "\n",
       "    .dataframe tbody tr th {\n",
       "        vertical-align: top;\n",
       "    }\n",
       "\n",
       "    .dataframe thead th {\n",
       "        text-align: right;\n",
       "    }\n",
       "</style>\n",
       "<table border=\"1\" class=\"dataframe\">\n",
       "  <thead>\n",
       "    <tr style=\"text-align: right;\">\n",
       "      <th></th>\n",
       "      <th>Open</th>\n",
       "      <th>High</th>\n",
       "      <th>Low</th>\n",
       "      <th>Volume</th>\n",
       "    </tr>\n",
       "  </thead>\n",
       "  <tbody>\n",
       "    <tr>\n",
       "      <th>5500</th>\n",
       "      <td>0.605759</td>\n",
       "      <td>0.568182</td>\n",
       "      <td>0.598883</td>\n",
       "      <td>0.335099</td>\n",
       "    </tr>\n",
       "    <tr>\n",
       "      <th>5501</th>\n",
       "      <td>0.595792</td>\n",
       "      <td>0.567149</td>\n",
       "      <td>0.600000</td>\n",
       "      <td>0.355530</td>\n",
       "    </tr>\n",
       "    <tr>\n",
       "      <th>5502</th>\n",
       "      <td>0.601329</td>\n",
       "      <td>0.561983</td>\n",
       "      <td>0.581006</td>\n",
       "      <td>0.506137</td>\n",
       "    </tr>\n",
       "    <tr>\n",
       "      <th>5503</th>\n",
       "      <td>0.564784</td>\n",
       "      <td>0.536157</td>\n",
       "      <td>0.550838</td>\n",
       "      <td>0.533186</td>\n",
       "    </tr>\n",
       "    <tr>\n",
       "      <th>5504</th>\n",
       "      <td>0.525471</td>\n",
       "      <td>0.533058</td>\n",
       "      <td>0.523464</td>\n",
       "      <td>0.658459</td>\n",
       "    </tr>\n",
       "    <tr>\n",
       "      <th>...</th>\n",
       "      <td>...</td>\n",
       "      <td>...</td>\n",
       "      <td>...</td>\n",
       "      <td>...</td>\n",
       "    </tr>\n",
       "    <tr>\n",
       "      <th>5995</th>\n",
       "      <td>0.780731</td>\n",
       "      <td>0.730372</td>\n",
       "      <td>0.778771</td>\n",
       "      <td>0.174824</td>\n",
       "    </tr>\n",
       "    <tr>\n",
       "      <th>5996</th>\n",
       "      <td>0.775194</td>\n",
       "      <td>0.725207</td>\n",
       "      <td>0.777654</td>\n",
       "      <td>0.100115</td>\n",
       "    </tr>\n",
       "    <tr>\n",
       "      <th>5997</th>\n",
       "      <td>0.772979</td>\n",
       "      <td>0.724174</td>\n",
       "      <td>0.776536</td>\n",
       "      <td>0.113598</td>\n",
       "    </tr>\n",
       "    <tr>\n",
       "      <th>5998</th>\n",
       "      <td>0.777409</td>\n",
       "      <td>0.728306</td>\n",
       "      <td>0.778771</td>\n",
       "      <td>0.112681</td>\n",
       "    </tr>\n",
       "    <tr>\n",
       "      <th>5999</th>\n",
       "      <td>0.788483</td>\n",
       "      <td>0.741736</td>\n",
       "      <td>0.792179</td>\n",
       "      <td>0.188421</td>\n",
       "    </tr>\n",
       "  </tbody>\n",
       "</table>\n",
       "<p>500 rows × 4 columns</p>\n",
       "</div>"
      ],
      "text/plain": [
       "          Open      High       Low    Volume\n",
       "5500  0.605759  0.568182  0.598883  0.335099\n",
       "5501  0.595792  0.567149  0.600000  0.355530\n",
       "5502  0.601329  0.561983  0.581006  0.506137\n",
       "5503  0.564784  0.536157  0.550838  0.533186\n",
       "5504  0.525471  0.533058  0.523464  0.658459\n",
       "...        ...       ...       ...       ...\n",
       "5995  0.780731  0.730372  0.778771  0.174824\n",
       "5996  0.775194  0.725207  0.777654  0.100115\n",
       "5997  0.772979  0.724174  0.776536  0.113598\n",
       "5998  0.777409  0.728306  0.778771  0.112681\n",
       "5999  0.788483  0.741736  0.792179  0.188421\n",
       "\n",
       "[500 rows x 4 columns]"
      ]
     },
     "execution_count": 35,
     "metadata": {},
     "output_type": "execute_result"
    }
   ],
   "source": [
    "test_x"
   ]
  },
  {
   "cell_type": "code",
   "execution_count": 36,
   "metadata": {},
   "outputs": [
    {
     "data": {
      "text/html": [
       "<div>\n",
       "<style scoped>\n",
       "    .dataframe tbody tr th:only-of-type {\n",
       "        vertical-align: middle;\n",
       "    }\n",
       "\n",
       "    .dataframe tbody tr th {\n",
       "        vertical-align: top;\n",
       "    }\n",
       "\n",
       "    .dataframe thead th {\n",
       "        text-align: right;\n",
       "    }\n",
       "</style>\n",
       "<table border=\"1\" class=\"dataframe\">\n",
       "  <thead>\n",
       "    <tr style=\"text-align: right;\">\n",
       "      <th></th>\n",
       "      <th>Close</th>\n",
       "    </tr>\n",
       "    <tr>\n",
       "      <th>Date</th>\n",
       "      <th></th>\n",
       "    </tr>\n",
       "  </thead>\n",
       "  <tbody>\n",
       "    <tr>\n",
       "      <th>1998-02-02</th>\n",
       "      <td>1489</td>\n",
       "    </tr>\n",
       "    <tr>\n",
       "      <th>1998-02-03</th>\n",
       "      <td>1472</td>\n",
       "    </tr>\n",
       "    <tr>\n",
       "      <th>1998-02-04</th>\n",
       "      <td>1452</td>\n",
       "    </tr>\n",
       "    <tr>\n",
       "      <th>1998-02-05</th>\n",
       "      <td>1336</td>\n",
       "    </tr>\n",
       "    <tr>\n",
       "      <th>1998-02-06</th>\n",
       "      <td>1441</td>\n",
       "    </tr>\n",
       "    <tr>\n",
       "      <th>...</th>\n",
       "      <td>...</td>\n",
       "    </tr>\n",
       "    <tr>\n",
       "      <th>2020-03-02</th>\n",
       "      <td>55000</td>\n",
       "    </tr>\n",
       "    <tr>\n",
       "      <th>2020-03-03</th>\n",
       "      <td>55400</td>\n",
       "    </tr>\n",
       "    <tr>\n",
       "      <th>2020-03-04</th>\n",
       "      <td>57400</td>\n",
       "    </tr>\n",
       "    <tr>\n",
       "      <th>2020-03-05</th>\n",
       "      <td>57800</td>\n",
       "    </tr>\n",
       "    <tr>\n",
       "      <th>2020-03-06</th>\n",
       "      <td>56500</td>\n",
       "    </tr>\n",
       "  </tbody>\n",
       "</table>\n",
       "<p>5500 rows × 1 columns</p>\n",
       "</div>"
      ],
      "text/plain": [
       "            Close\n",
       "Date             \n",
       "1998-02-02   1489\n",
       "1998-02-03   1472\n",
       "1998-02-04   1452\n",
       "1998-02-05   1336\n",
       "1998-02-06   1441\n",
       "...           ...\n",
       "2020-03-02  55000\n",
       "2020-03-03  55400\n",
       "2020-03-04  57400\n",
       "2020-03-05  57800\n",
       "2020-03-06  56500\n",
       "\n",
       "[5500 rows x 1 columns]"
      ]
     },
     "execution_count": 36,
     "metadata": {},
     "output_type": "execute_result"
    }
   ],
   "source": [
    "train_y"
   ]
  },
  {
   "cell_type": "code",
   "execution_count": 37,
   "metadata": {},
   "outputs": [
    {
     "data": {
      "text/html": [
       "<div>\n",
       "<style scoped>\n",
       "    .dataframe tbody tr th:only-of-type {\n",
       "        vertical-align: middle;\n",
       "    }\n",
       "\n",
       "    .dataframe tbody tr th {\n",
       "        vertical-align: top;\n",
       "    }\n",
       "\n",
       "    .dataframe thead th {\n",
       "        text-align: right;\n",
       "    }\n",
       "</style>\n",
       "<table border=\"1\" class=\"dataframe\">\n",
       "  <thead>\n",
       "    <tr style=\"text-align: right;\">\n",
       "      <th></th>\n",
       "      <th>Close</th>\n",
       "    </tr>\n",
       "    <tr>\n",
       "      <th>Date</th>\n",
       "      <th></th>\n",
       "    </tr>\n",
       "  </thead>\n",
       "  <tbody>\n",
       "    <tr>\n",
       "      <th>2020-03-09</th>\n",
       "      <td>54200</td>\n",
       "    </tr>\n",
       "    <tr>\n",
       "      <th>2020-03-10</th>\n",
       "      <td>54600</td>\n",
       "    </tr>\n",
       "    <tr>\n",
       "      <th>2020-03-11</th>\n",
       "      <td>52100</td>\n",
       "    </tr>\n",
       "    <tr>\n",
       "      <th>2020-03-12</th>\n",
       "      <td>50800</td>\n",
       "    </tr>\n",
       "    <tr>\n",
       "      <th>2020-03-13</th>\n",
       "      <td>49950</td>\n",
       "    </tr>\n",
       "    <tr>\n",
       "      <th>...</th>\n",
       "      <td>...</td>\n",
       "    </tr>\n",
       "    <tr>\n",
       "      <th>2022-03-11</th>\n",
       "      <td>70000</td>\n",
       "    </tr>\n",
       "    <tr>\n",
       "      <th>2022-03-14</th>\n",
       "      <td>70200</td>\n",
       "    </tr>\n",
       "    <tr>\n",
       "      <th>2022-03-15</th>\n",
       "      <td>69500</td>\n",
       "    </tr>\n",
       "    <tr>\n",
       "      <th>2022-03-16</th>\n",
       "      <td>70400</td>\n",
       "    </tr>\n",
       "    <tr>\n",
       "      <th>2022-03-17</th>\n",
       "      <td>71200</td>\n",
       "    </tr>\n",
       "  </tbody>\n",
       "</table>\n",
       "<p>500 rows × 1 columns</p>\n",
       "</div>"
      ],
      "text/plain": [
       "            Close\n",
       "Date             \n",
       "2020-03-09  54200\n",
       "2020-03-10  54600\n",
       "2020-03-11  52100\n",
       "2020-03-12  50800\n",
       "2020-03-13  49950\n",
       "...           ...\n",
       "2022-03-11  70000\n",
       "2022-03-14  70200\n",
       "2022-03-15  69500\n",
       "2022-03-16  70400\n",
       "2022-03-17  71200\n",
       "\n",
       "[500 rows x 1 columns]"
      ]
     },
     "execution_count": 37,
     "metadata": {},
     "output_type": "execute_result"
    }
   ],
   "source": [
    "test_y"
   ]
  },
  {
   "cell_type": "code",
   "execution_count": 38,
   "metadata": {},
   "outputs": [
    {
     "name": "stdout",
     "output_type": "stream",
     "text": [
      "(4932, 20, 4) (548, 20, 4)\n",
      "(480, 20, 4) (480, 1)\n"
     ]
    }
   ],
   "source": [
    "# train dataset\n",
    "train_feature, train_label = make_dataset(train_x, train_y, 20)\n",
    "\n",
    "# train, validation set 생성\n",
    "from sklearn.model_selection import train_test_split\n",
    "x_train, x_valid, y_train, y_valid = train_test_split(train_feature, train_label, test_size=0.1)\n",
    "\n",
    "print(x_train.shape, x_valid.shape)\n",
    "\n",
    "\n",
    "test_feature, test_label = make_dataset(test_x, test_y, 20)\n",
    "print(test_feature.shape, test_label.shape)\n",
    "\n",
    "# 즉 4392개를 학습하면서 548개의 데이터에 대해서 검증, 마지막으로 예측은 480개에 대해서!"
   ]
  },
  {
   "cell_type": "markdown",
   "metadata": {},
   "source": [
    "똑같은 RNN 모델 생성 "
   ]
  },
  {
   "cell_type": "code",
   "execution_count": 39,
   "metadata": {},
   "outputs": [
    {
     "name": "stdout",
     "output_type": "stream",
     "text": [
      "Model: \"sequential_2\"\n",
      "_________________________________________________________________\n",
      "Layer (type)                 Output Shape              Param #   \n",
      "=================================================================\n",
      "simple_rnn_2 (SimpleRNN)     (None, 20, 32)            1184      \n",
      "_________________________________________________________________\n",
      "simple_rnn_3 (SimpleRNN)     (None, 32)                2080      \n",
      "_________________________________________________________________\n",
      "dense_2 (Dense)              (None, 1)                 33        \n",
      "=================================================================\n",
      "Total params: 3,297\n",
      "Trainable params: 3,297\n",
      "Non-trainable params: 0\n",
      "_________________________________________________________________\n"
     ]
    }
   ],
   "source": [
    "# 모델을 만들면서 hiden layer 안의 뉴런의 갯수, hidden layer 개수, epoch, batch_size는 임의로 정했습니다.\n",
    "\n",
    "from keras.models import Sequential \n",
    "from keras.layers import Dense, SimpleRNN \n",
    "\n",
    "rnn_model = Sequential()\n",
    "rnn_model.add(SimpleRNN(32, \n",
    "                        input_shape=(train_feature.shape[1], train_feature.shape[2]),\n",
    "                        return_sequences = True))\n",
    "rnn_model.add(SimpleRNN(32))\n",
    "rnn_model.add(Dense(1)) # The time step of the output \n",
    "\n",
    "rnn_model.compile(optimizer = 'rmsprop', loss = 'mean_squared_error')\n",
    "\n",
    "rnn_model.summary()"
   ]
  },
  {
   "cell_type": "code",
   "execution_count": 40,
   "metadata": {},
   "outputs": [
    {
     "name": "stdout",
     "output_type": "stream",
     "text": [
      "Epoch 1/100\n",
      "309/309 [==============================] - 6s 10ms/step - loss: 575130148.7484 - val_loss: 539022144.0000\n",
      "Epoch 2/100\n",
      "309/309 [==============================] - 2s 8ms/step - loss: 554675523.9226 - val_loss: 538656256.0000\n",
      "Epoch 3/100\n",
      "309/309 [==============================] - 3s 9ms/step - loss: 547666637.2129 - val_loss: 538291008.0000\n",
      "Epoch 4/100\n",
      "309/309 [==============================] - 3s 8ms/step - loss: 552158502.1935 - val_loss: 537926080.0000\n",
      "Epoch 5/100\n",
      "309/309 [==============================] - 3s 8ms/step - loss: 560671828.4387 - val_loss: 537561344.0000\n",
      "Epoch 6/100\n",
      "309/309 [==============================] - 3s 9ms/step - loss: 543745634.3742 - val_loss: 537196544.0000\n",
      "Epoch 7/100\n",
      "309/309 [==============================] - 3s 8ms/step - loss: 553818583.9484 - val_loss: 536832832.0000\n",
      "Epoch 8/100\n",
      "309/309 [==============================] - 2s 8ms/step - loss: 558229140.3355 - val_loss: 536466944.0000\n",
      "Epoch 9/100\n",
      "309/309 [==============================] - 3s 9ms/step - loss: 560890461.5226 - val_loss: 536104096.0000\n",
      "Epoch 10/100\n",
      "309/309 [==============================] - 3s 8ms/step - loss: 564714699.7677 - val_loss: 535738624.0000\n",
      "Epoch 11/100\n",
      "309/309 [==============================] - 2s 8ms/step - loss: 557186254.1419 - val_loss: 535376032.0000\n",
      "Epoch 12/100\n",
      "309/309 [==============================] - 2s 8ms/step - loss: 548834498.1677 - val_loss: 535011264.0000\n",
      "Epoch 13/100\n",
      "309/309 [==============================] - 2s 8ms/step - loss: 567140121.3935 - val_loss: 534648960.0000\n",
      "Epoch 14/100\n",
      "309/309 [==============================] - 2s 8ms/step - loss: 541724096.5161 - val_loss: 534286304.0000\n",
      "Epoch 15/100\n",
      "309/309 [==============================] - 2s 7ms/step - loss: 538874600.0516 - val_loss: 533922208.0000\n",
      "Epoch 16/100\n",
      "309/309 [==============================] - 2s 7ms/step - loss: 567182715.0452 - val_loss: 533560192.0000\n",
      "Epoch 17/100\n",
      "309/309 [==============================] - 2s 8ms/step - loss: 540415139.6129 - val_loss: 533197312.0000\n",
      "Epoch 18/100\n",
      "309/309 [==============================] - 2s 8ms/step - loss: 565399767.0194 - val_loss: 532833984.0000\n",
      "Epoch 19/100\n",
      "309/309 [==============================] - 3s 8ms/step - loss: 562488919.8452 - val_loss: 532472096.0000\n",
      "Epoch 20/100\n",
      "309/309 [==============================] - 2s 7ms/step - loss: 531158681.0323 - val_loss: 532109568.0000\n",
      "Epoch 21/100\n",
      "309/309 [==============================] - 2s 7ms/step - loss: 550476761.6516 - val_loss: 531750432.0000\n",
      "Epoch 22/100\n",
      "309/309 [==============================] - 2s 8ms/step - loss: 558068897.6516 - val_loss: 531388608.0000\n",
      "Epoch 23/100\n",
      "309/309 [==============================] - 2s 8ms/step - loss: 554890568.0516 - val_loss: 531027136.0000\n",
      "Epoch 24/100\n",
      "309/309 [==============================] - 2s 7ms/step - loss: 537455854.7613 - val_loss: 530664960.0000\n",
      "Epoch 25/100\n",
      "309/309 [==============================] - 2s 7ms/step - loss: 550603798.9161 - val_loss: 530304800.0000\n",
      "Epoch 26/100\n",
      "309/309 [==============================] - 3s 8ms/step - loss: 558220430.9677 - val_loss: 529944800.0000\n",
      "Epoch 27/100\n",
      "309/309 [==============================] - 3s 9ms/step - loss: 540019129.4968 - val_loss: 529585120.0000\n",
      "Epoch 28/100\n",
      "309/309 [==============================] - 3s 9ms/step - loss: 549019425.3419 - val_loss: 529224544.0000\n",
      "Epoch 29/100\n",
      "309/309 [==============================] - 3s 9ms/step - loss: 532328571.2516 - val_loss: 528866144.0000\n",
      "Epoch 30/100\n",
      "309/309 [==============================] - 2s 8ms/step - loss: 549053940.8516 - val_loss: 528505632.0000\n",
      "Epoch 31/100\n",
      "309/309 [==============================] - 2s 8ms/step - loss: 544735647.0710 - val_loss: 528145472.0000\n",
      "Epoch 32/100\n",
      "309/309 [==============================] - 2s 8ms/step - loss: 545737993.8065 - val_loss: 527786048.0000\n",
      "Epoch 33/100\n",
      "309/309 [==============================] - ETA: 0s - loss: 525994555.473 - 2s 7ms/step - loss: 526381820.5935 - val_loss: 527425728.0000\n",
      "Epoch 34/100\n",
      "309/309 [==============================] - 2s 8ms/step - loss: 538710186.4258 - val_loss: 527067968.0000\n",
      "Epoch 35/100\n",
      "309/309 [==============================] - 2s 8ms/step - loss: 546253722.4258 - val_loss: 526707584.0000\n",
      "Epoch 36/100\n",
      "309/309 [==============================] - 2s 8ms/step - loss: 531855230.2452 - val_loss: 526347840.0000\n",
      "Epoch 37/100\n",
      "309/309 [==============================] - 2s 8ms/step - loss: 540932579.3032 - val_loss: 525989888.0000\n",
      "Epoch 38/100\n",
      "309/309 [==============================] - 2s 8ms/step - loss: 523876287.1742 - val_loss: 525631200.0000\n",
      "Epoch 39/100\n",
      "309/309 [==============================] - 2s 8ms/step - loss: 531162089.1871 - val_loss: 525273120.0000\n",
      "Epoch 40/100\n",
      "309/309 [==============================] - 2s 8ms/step - loss: 530191227.6645 - val_loss: 524914432.0000\n",
      "Epoch 41/100\n",
      "309/309 [==============================] - 2s 7ms/step - loss: 556373740.5935 - val_loss: 524557248.0000\n",
      "Epoch 42/100\n",
      "309/309 [==============================] - 2s 8ms/step - loss: 552104116.2323 - val_loss: 524199872.0000\n",
      "Epoch 43/100\n",
      "309/309 [==============================] - 2s 8ms/step - loss: 547649453.4194 - val_loss: 523841920.0000\n",
      "Epoch 44/100\n",
      "309/309 [==============================] - 3s 9ms/step - loss: 533307952.5161 - val_loss: 523485664.0000\n",
      "Epoch 45/100\n",
      "309/309 [==============================] - 3s 8ms/step - loss: 540520326.1935 - val_loss: 523127776.0000\n",
      "Epoch 46/100\n",
      "309/309 [==============================] - 3s 9ms/step - loss: 531369770.8387 - val_loss: 522770208.0000\n",
      "Epoch 47/100\n",
      "309/309 [==============================] - 2s 8ms/step - loss: 540284825.0323 - val_loss: 522414080.0000\n",
      "Epoch 48/100\n",
      "309/309 [==============================] - 2s 8ms/step - loss: 539866225.1355 - val_loss: 522057920.0000\n",
      "Epoch 49/100\n",
      "309/309 [==============================] - 2s 8ms/step - loss: 557106365.1097 - val_loss: 521700640.0000\n",
      "Epoch 50/100\n",
      "309/309 [==============================] - 3s 9ms/step - loss: 516766908.5935 - val_loss: 521344256.0000\n",
      "Epoch 51/100\n",
      "309/309 [==============================] - 2s 8ms/step - loss: 530375043.0968 - val_loss: 520990144.0000\n",
      "Epoch 52/100\n",
      "309/309 [==============================] - 2s 8ms/step - loss: 542112607.8968 - val_loss: 520634720.0000\n",
      "Epoch 53/100\n",
      "309/309 [==============================] - 2s 8ms/step - loss: 526822717.2129 - val_loss: 520280320.0000\n",
      "Epoch 54/100\n",
      "309/309 [==============================] - 2s 8ms/step - loss: 540085016.2581 - val_loss: 519925376.0000\n",
      "Epoch 55/100\n",
      "309/309 [==============================] - 2s 8ms/step - loss: 530010770.9935 - val_loss: 519571872.0000\n",
      "Epoch 56/100\n",
      "309/309 [==============================] - 3s 8ms/step - loss: 542970322.2710 - val_loss: 519218336.0000\n",
      "Epoch 57/100\n",
      "309/309 [==============================] - 2s 8ms/step - loss: 548591065.7032 - val_loss: 518862816.0000\n",
      "Epoch 58/100\n",
      "309/309 [==============================] - 2s 8ms/step - loss: 529545609.9097 - val_loss: 518508768.0000\n",
      "Epoch 59/100\n",
      "309/309 [==============================] - 2s 8ms/step - loss: 563251504.4129 - val_loss: 518155360.0000\n",
      "Epoch 60/100\n",
      "309/309 [==============================] - 2s 8ms/step - loss: 553640498.5806 - val_loss: 517801184.0000\n",
      "Epoch 61/100\n",
      "309/309 [==============================] - 2s 8ms/step - loss: 532898854.0903 - val_loss: 517447968.0000\n",
      "Epoch 62/100\n",
      "309/309 [==============================] - 2s 8ms/step - loss: 529394964.8000 - val_loss: 517093152.0000\n",
      "Epoch 63/100\n",
      "309/309 [==============================] - 2s 8ms/step - loss: 540046223.2774 - val_loss: 516742208.0000\n",
      "Epoch 64/100\n",
      "309/309 [==============================] - 2s 8ms/step - loss: 550419308.3871 - val_loss: 516390688.0000\n",
      "Epoch 65/100\n",
      "309/309 [==============================] - 3s 9ms/step - loss: 541565463.1226 - val_loss: 516036320.0000\n",
      "Epoch 66/100\n",
      "309/309 [==============================] - 2s 8ms/step - loss: 519002822.9161 - val_loss: 515683584.0000\n",
      "Epoch 67/100\n",
      "309/309 [==============================] - 2s 7ms/step - loss: 533811569.5484 - val_loss: 515331168.0000\n",
      "Epoch 68/100\n",
      "309/309 [==============================] - 2s 7ms/step - loss: 533931487.7935 - val_loss: 514979264.0000\n",
      "Epoch 69/100\n",
      "309/309 [==============================] - 2s 7ms/step - loss: 521730022.5032 - val_loss: 514627968.0000\n",
      "Epoch 70/100\n"
     ]
    },
    {
     "name": "stdout",
     "output_type": "stream",
     "text": [
      "309/309 [==============================] - 2s 7ms/step - loss: 550803079.7419 - val_loss: 514276352.0000\n",
      "Epoch 71/100\n",
      "309/309 [==============================] - 2s 7ms/step - loss: 520803123.0968 - val_loss: 513923392.0000\n",
      "Epoch 72/100\n",
      "309/309 [==============================] - 2s 7ms/step - loss: 534718539.6645 - val_loss: 513572448.0000\n",
      "Epoch 73/100\n",
      "309/309 [==============================] - 2s 7ms/step - loss: 530656547.9226 - val_loss: 513220000.0000\n",
      "Epoch 74/100\n",
      "309/309 [==============================] - 2s 8ms/step - loss: 541537733.4710 - val_loss: 512870400.0000\n",
      "Epoch 75/100\n",
      "309/309 [==============================] - 3s 10ms/step - loss: 529417586.8903 - val_loss: 512520704.0000\n",
      "Epoch 76/100\n",
      "309/309 [==============================] - 2s 8ms/step - loss: 521065517.0581 - val_loss: 512171328.0000\n",
      "Epoch 77/100\n",
      "309/309 [==============================] - 2s 7ms/step - loss: 522792972.0774 - val_loss: 511821024.0000\n",
      "Epoch 78/100\n",
      "309/309 [==============================] - 2s 7ms/step - loss: 527899993.7032 - val_loss: 511469440.0000\n",
      "Epoch 79/100\n",
      "309/309 [==============================] - 2s 8ms/step - loss: 523361378.7871 - val_loss: 511119200.0000\n",
      "Epoch 80/100\n",
      "309/309 [==============================] - 2s 7ms/step - loss: 517414571.5613 - val_loss: 510771328.0000\n",
      "Epoch 81/100\n",
      "309/309 [==============================] - 2s 7ms/step - loss: 530568002.4774 - val_loss: 510422720.0000\n",
      "Epoch 82/100\n",
      "309/309 [==============================] - 2s 7ms/step - loss: 522713903.3806 - val_loss: 510072672.0000\n",
      "Epoch 83/100\n",
      "309/309 [==============================] - 2s 7ms/step - loss: 517384722.5806 - val_loss: 509723872.0000\n",
      "Epoch 84/100\n",
      "309/309 [==============================] - 2s 7ms/step - loss: 526388717.1613 - val_loss: 509375136.0000\n",
      "Epoch 85/100\n",
      "309/309 [==============================] - 2s 7ms/step - loss: 528365793.5484 - val_loss: 509027552.0000\n",
      "Epoch 86/100\n",
      "309/309 [==============================] - 2s 7ms/step - loss: 511644968.4645 - val_loss: 508678368.0000\n",
      "Epoch 87/100\n",
      "309/309 [==============================] - 2s 8ms/step - loss: 531282065.7548 - val_loss: 508329984.0000\n",
      "Epoch 88/100\n",
      "309/309 [==============================] - 2s 7ms/step - loss: 534207953.7548 - val_loss: 507981600.0000\n",
      "Epoch 89/100\n",
      "309/309 [==============================] - 2s 7ms/step - loss: 538446617.9097 - val_loss: 507634624.0000\n",
      "Epoch 90/100\n",
      "309/309 [==============================] - 2s 7ms/step - loss: 534340209.4452 - val_loss: 507285664.0000\n",
      "Epoch 91/100\n",
      "309/309 [==============================] - 2s 7ms/step - loss: 532027472.6194 - val_loss: 506940160.0000\n",
      "Epoch 92/100\n",
      "309/309 [==============================] - 2s 8ms/step - loss: 524179376.8258 - val_loss: 506591968.0000\n",
      "Epoch 93/100\n",
      "309/309 [==============================] - 3s 8ms/step - loss: 512728641.0323 - val_loss: 506245280.0000\n",
      "Epoch 94/100\n",
      "309/309 [==============================] - 3s 9ms/step - loss: 522570120.7742 - val_loss: 505900064.0000\n",
      "Epoch 95/100\n",
      "309/309 [==============================] - 2s 8ms/step - loss: 530258310.2968 - val_loss: 505553664.0000\n",
      "Epoch 96/100\n",
      "309/309 [==============================] - 2s 7ms/step - loss: 519936645.2645 - val_loss: 505207936.0000\n",
      "Epoch 97/100\n",
      "309/309 [==============================] - 2s 8ms/step - loss: 519814490.9419 - val_loss: 504862272.0000\n",
      "Epoch 98/100\n",
      "309/309 [==============================] - 3s 8ms/step - loss: 514989245.5226 - val_loss: 504515392.0000\n",
      "Epoch 99/100\n",
      "309/309 [==============================] - 3s 8ms/step - loss: 528829302.6065 - val_loss: 504171616.0000\n",
      "Epoch 100/100\n",
      "309/309 [==============================] - 2s 8ms/step - loss: 497821717.2645 - val_loss: 503827264.0000\n"
     ]
    }
   ],
   "source": [
    "# 학습\n",
    "history = rnn_model.fit(x_train, y_train, \n",
    "                    epochs=100, \n",
    "                    batch_size=16,\n",
    "                    validation_data=(x_valid, y_valid),\n",
    "                    verbose= 1)"
   ]
  },
  {
   "cell_type": "code",
   "execution_count": 41,
   "metadata": {},
   "outputs": [
    {
     "data": {
      "image/png": "[encoded data removed]",
      "text/plain": [
       "<Figure size 576x576 with 1 Axes>"
      ]
     },
     "metadata": {
      "needs_background": "light"
     },
     "output_type": "display_data"
    }
   ],
   "source": [
    "loss = history.history['loss']\n",
    "val_loss = history.history['val_loss'] \n",
    "plt.figure(figsize=(8, 8)) \n",
    "plt.plot(loss, label='Training Loss') \n",
    "plt.plot(val_loss, label='Validation Loss') \n",
    "plt.legend(loc='upper right') \n",
    "plt.title('Training and Validation Loss') \n",
    "plt.xlabel('epoch') \n",
    "plt.show()"
   ]
  },
  {
   "cell_type": "code",
   "execution_count": 42,
   "metadata": {},
   "outputs": [],
   "source": [
    "# 예측\n",
    "pred = rnn_model.predict(test_feature)"
   ]
  },
  {
   "cell_type": "markdown",
   "metadata": {},
   "source": [
    "실제 데이터와 예측한 데이터의 시각화"
   ]
  },
  {
   "cell_type": "code",
   "execution_count": 43,
   "metadata": {},
   "outputs": [
    {
     "data": {
      "image/png": "[encoded data removed]",
      "text/plain": [
       "<Figure size 864x648 with 1 Axes>"
      ]
     },
     "metadata": {
      "needs_background": "light"
     },
     "output_type": "display_data"
    }
   ],
   "source": [
    "plt.figure(figsize=(12, 9))\n",
    "plt.plot(test_label, label='actual')\n",
    "plt.plot(pred, label='prediction')\n",
    "plt.legend()\n",
    "plt.show()"
   ]
  },
  {
   "cell_type": "code",
   "execution_count": 44,
   "metadata": {},
   "outputs": [
    {
     "name": "stdout",
     "output_type": "stream",
     "text": [
      "y를 Scaling하지 않은 RNN 모델의 MAPE :  98.52732906897766\n",
      "y를 Scaling하지 않은 RNN 모델의 RMSE :  70459.4801411003\n"
     ]
    }
   ],
   "source": [
    "print('y를 Scaling하지 않은 RNN 모델의 MAPE : ', MAPE(test_label, pred))\n",
    "print('y를 Scaling하지 않은 RNN 모델의 RMSE : ', RMSE(test_label, pred)) "
   ]
  },
  {
   "cell_type": "markdown",
   "metadata": {},
   "source": [
    "똑같은 LSTM 모델 생성"
   ]
  },
  {
   "cell_type": "code",
   "execution_count": 45,
   "metadata": {},
   "outputs": [
    {
     "name": "stdout",
     "output_type": "stream",
     "text": [
      "Model: \"sequential_3\"\n",
      "_________________________________________________________________\n",
      "Layer (type)                 Output Shape              Param #   \n",
      "=================================================================\n",
      "lstm_2 (LSTM)                (None, 20, 32)            4736      \n",
      "_________________________________________________________________\n",
      "lstm_3 (LSTM)                (None, 32)                8320      \n",
      "_________________________________________________________________\n",
      "dense_3 (Dense)              (None, 1)                 33        \n",
      "=================================================================\n",
      "Total params: 13,089\n",
      "Trainable params: 13,089\n",
      "Non-trainable params: 0\n",
      "_________________________________________________________________\n"
     ]
    }
   ],
   "source": [
    "from keras.models import Sequential\n",
    "from keras.layers import Dense\n",
    "from keras.layers import LSTM\n",
    "\n",
    "lstm_model = Sequential()\n",
    "lstm_model.add(LSTM(32, \n",
    "               input_shape=(train_feature.shape[1], train_feature.shape[2]), \n",
    "               activation='relu', \n",
    "               return_sequences=True)\n",
    "          )\n",
    "lstm_model.add(LSTM(32, \n",
    "               activation='relu', \n",
    "               return_sequences=False)\n",
    "          )\n",
    "lstm_model.add(Dense(1))\n",
    "\n",
    "lstm_model.compile(loss='mean_squared_error', optimizer='adam')\n",
    "\n",
    "lstm_model.summary()"
   ]
  },
  {
   "cell_type": "code",
   "execution_count": 46,
   "metadata": {},
   "outputs": [
    {
     "name": "stdout",
     "output_type": "stream",
     "text": [
      "Epoch 1/100\n",
      "309/309 [==============================] - 9s 19ms/step - loss: 299015624.6452 - val_loss: 6647071.5000\n",
      "Epoch 2/100\n",
      "309/309 [==============================] - 4s 13ms/step - loss: 4271088.4726 - val_loss: 3361584.2500\n",
      "Epoch 3/100\n",
      "309/309 [==============================] - 4s 13ms/step - loss: 4395572.3065 - val_loss: 3277155.7500\n",
      "Epoch 4/100\n",
      "309/309 [==============================] - 4s 13ms/step - loss: 3302544.9573 - val_loss: 3292474.0000\n",
      "Epoch 5/100\n",
      "309/309 [==============================] - 5s 16ms/step - loss: 3597202.2565 - val_loss: 4102321.0000\n",
      "Epoch 6/100\n",
      "309/309 [==============================] - 4s 13ms/step - loss: 3190694.1706 - val_loss: 3580783.2500\n",
      "Epoch 7/100\n",
      "309/309 [==============================] - 4s 13ms/step - loss: 2812700.5113 - val_loss: 3144801.7500\n",
      "Epoch 8/100\n",
      "309/309 [==============================] - 4s 13ms/step - loss: 3680989.0734 - val_loss: 2722485.7500\n",
      "Epoch 9/100\n",
      "309/309 [==============================] - 4s 13ms/step - loss: 3967695.2988 - val_loss: 3248989.5000\n",
      "Epoch 10/100\n",
      "309/309 [==============================] - 4s 13ms/step - loss: 3383519.6875 - val_loss: 2287966.5000\n",
      "Epoch 11/100\n",
      "309/309 [==============================] - 4s 14ms/step - loss: 4083748.2230 - val_loss: 3750602.5000\n",
      "Epoch 12/100\n",
      "309/309 [==============================] - 4s 13ms/step - loss: 3229216.9218 - val_loss: 2971516.7500\n",
      "Epoch 13/100\n",
      "309/309 [==============================] - 4s 13ms/step - loss: 3321039.0810 - val_loss: 2348247.7500\n",
      "Epoch 14/100\n",
      "309/309 [==============================] - 4s 13ms/step - loss: 3132232.4617 - val_loss: 2487438.5000\n",
      "Epoch 15/100\n",
      "309/309 [==============================] - 4s 13ms/step - loss: 3191328.6282 - val_loss: 3396075.5000\n",
      "Epoch 16/100\n",
      "309/309 [==============================] - 4s 13ms/step - loss: 2671112.2585 - val_loss: 3244117.0000\n",
      "Epoch 17/100\n",
      "309/309 [==============================] - 4s 14ms/step - loss: 2688279.4331 - val_loss: 1941000.0000\n",
      "Epoch 18/100\n",
      "309/309 [==============================] - 5s 15ms/step - loss: 2997583.0069 - val_loss: 2396213.2500\n",
      "Epoch 19/100\n",
      "309/309 [==============================] - 5s 15ms/step - loss: 2841991.9984 - val_loss: 3221045.0000\n",
      "Epoch 20/100\n",
      "309/309 [==============================] - 5s 15ms/step - loss: 3077654.4748 - val_loss: 1846180.7500\n",
      "Epoch 21/100\n",
      "309/309 [==============================] - 5s 15ms/step - loss: 2866089.6782 - val_loss: 2095043.7500\n",
      "Epoch 22/100\n",
      "309/309 [==============================] - 4s 14ms/step - loss: 2503871.3738 - val_loss: 2317632.2500\n",
      "Epoch 23/100\n",
      "309/309 [==============================] - 4s 13ms/step - loss: 2981143.7153 - val_loss: 1769254.0000\n",
      "Epoch 24/100\n",
      "309/309 [==============================] - 4s 13ms/step - loss: 2486326.6911 - val_loss: 1829868.3750\n",
      "Epoch 25/100\n",
      "309/309 [==============================] - 4s 13ms/step - loss: 3099734.7540 - val_loss: 2148941.2500\n",
      "Epoch 26/100\n",
      "309/309 [==============================] - 4s 13ms/step - loss: 2839666.1887 - val_loss: 3401555.0000\n",
      "Epoch 27/100\n",
      "309/309 [==============================] - 4s 13ms/step - loss: 2632847.9944 - val_loss: 1709770.6250\n",
      "Epoch 28/100\n",
      "309/309 [==============================] - 4s 13ms/step - loss: 2567291.9484 - val_loss: 4659223.5000\n",
      "Epoch 29/100\n",
      "309/309 [==============================] - 4s 13ms/step - loss: 2958174.7137 - val_loss: 2185153.7500\n",
      "Epoch 30/100\n",
      "309/309 [==============================] - 4s 13ms/step - loss: 2433586.8653 - val_loss: 1680509.3750: 2433875.\n",
      "Epoch 31/100\n",
      "309/309 [==============================] - 5s 16ms/step - loss: 2638128.5448 - val_loss: 8107562.0000\n",
      "Epoch 32/100\n",
      "309/309 [==============================] - 5s 17ms/step - loss: 3801887.2653 - val_loss: 4683363.0000\n",
      "Epoch 33/100\n",
      "309/309 [==============================] - 6s 20ms/step - loss: 2678022.2766 - val_loss: 1669668.8750\n",
      "Epoch 34/100\n",
      "309/309 [==============================] - 6s 19ms/step - loss: 2177708.3787 - val_loss: 1651635.3750\n",
      "Epoch 35/100\n",
      "309/309 [==============================] - 6s 18ms/step - loss: 2567871.3907 - val_loss: 5074195.0000\n",
      "Epoch 36/100\n",
      "309/309 [==============================] - 5s 16ms/step - loss: 3161468.2395 - val_loss: 2189107.2500\n",
      "Epoch 37/100\n",
      "309/309 [==============================] - 4s 15ms/step - loss: 2553893.8750 - val_loss: 1760112.2500\n",
      "Epoch 38/100\n",
      "309/309 [==============================] - 4s 14ms/step - loss: 3273779.0734 - val_loss: 2663370.2500\n",
      "Epoch 39/100\n",
      "309/309 [==============================] - 4s 14ms/step - loss: 2488746.2504 - val_loss: 1789889.8750\n",
      "Epoch 40/100\n",
      "309/309 [==============================] - 5s 15ms/step - loss: 2353212.5298 - val_loss: 2059060.5000\n",
      "Epoch 41/100\n",
      "309/309 [==============================] - 4s 13ms/step - loss: 2512655.2948 - val_loss: 2960567.7500\n",
      "Epoch 42/100\n",
      "309/309 [==============================] - 4s 14ms/step - loss: 2557516.9960 - val_loss: 4901458.5000\n",
      "Epoch 43/100\n",
      "309/309 [==============================] - 4s 13ms/step - loss: 2608570.0024 - val_loss: 1768066.0000\n",
      "Epoch 44/100\n",
      "309/309 [==============================] - 4s 13ms/step - loss: 2749326.8145 - val_loss: 1790775.3750\n",
      "Epoch 45/100\n",
      "309/309 [==============================] - 4s 13ms/step - loss: 2332614.1306 - val_loss: 1636256.2500\n",
      "Epoch 46/100\n",
      "309/309 [==============================] - 4s 14ms/step - loss: 2647917.2198 - val_loss: 1961160.6250\n",
      "Epoch 47/100\n",
      "309/309 [==============================] - 4s 13ms/step - loss: 2312403.9583 - val_loss: 1670560.8750\n",
      "Epoch 48/100\n",
      "309/309 [==============================] - 4s 13ms/step - loss: 2335846.7968 - val_loss: 1711608.1250\n",
      "Epoch 49/100\n",
      "309/309 [==============================] - 4s 13ms/step - loss: 2587277.1387 - val_loss: 3276304.2500\n",
      "Epoch 50/100\n",
      "309/309 [==============================] - 4s 13ms/step - loss: 2553656.0153 - val_loss: 4012874.7500\n",
      "Epoch 51/100\n",
      "309/309 [==============================] - 4s 13ms/step - loss: 2642875.3089 - val_loss: 1975236.0000\n",
      "Epoch 52/100\n",
      "309/309 [==============================] - 4s 14ms/step - loss: 2379956.7173 - val_loss: 1841547.5000\n",
      "Epoch 53/100\n",
      "309/309 [==============================] - 4s 14ms/step - loss: 2187376.2411 - val_loss: 3700071.5000\n",
      "Epoch 54/100\n",
      "309/309 [==============================] - 4s 13ms/step - loss: 2631095.1246 - val_loss: 3815202.5000\n",
      "Epoch 55/100\n",
      "309/309 [==============================] - 4s 13ms/step - loss: 2288531.5492 - val_loss: 1779268.7500\n",
      "Epoch 56/100\n",
      "309/309 [==============================] - 4s 14ms/step - loss: 2206516.1363 - val_loss: 1932833.7500\n",
      "Epoch 57/100\n",
      "309/309 [==============================] - 4s 14ms/step - loss: 2419983.1738 - val_loss: 2710849.7500\n",
      "Epoch 58/100\n",
      "309/309 [==============================] - 4s 13ms/step - loss: 2706329.0335 - val_loss: 3271743.7500\n",
      "Epoch 59/100\n",
      "309/309 [==============================] - 4s 14ms/step - loss: 2617527.3976 - val_loss: 3485292.5000\n",
      "Epoch 60/100\n",
      "309/309 [==============================] - 4s 13ms/step - loss: 2355197.6194 - val_loss: 1588437.3750\n",
      "Epoch 61/100\n",
      "309/309 [==============================] - 4s 13ms/step - loss: 2272908.6629 - val_loss: 1839815.7500\n",
      "Epoch 62/100\n",
      "309/309 [==============================] - 4s 13ms/step - loss: 2304030.9286 - val_loss: 2004911.1250\n",
      "Epoch 63/100\n",
      "309/309 [==============================] - 4s 13ms/step - loss: 2269714.9327 - val_loss: 2098637.5000\n",
      "Epoch 64/100\n",
      "309/309 [==============================] - 4s 13ms/step - loss: 2246929.1520 - val_loss: 1682917.3750\n",
      "Epoch 65/100\n",
      "309/309 [==============================] - 4s 14ms/step - loss: 2096495.2073 - val_loss: 2228926.2500\n",
      "Epoch 66/100\n",
      "309/309 [==============================] - 4s 13ms/step - loss: 2243485.3250 - val_loss: 2550198.7500\n",
      "Epoch 67/100\n",
      "309/309 [==============================] - 4s 13ms/step - loss: 3171124.0887 - val_loss: 2165454.0000\n",
      "Epoch 68/100\n",
      "309/309 [==============================] - 4s 13ms/step - loss: 2552508.8117 - val_loss: 2153805.5000\n",
      "Epoch 69/100\n",
      "309/309 [==============================] - 4s 13ms/step - loss: 2440739.0657 - val_loss: 3502900.7500\n",
      "Epoch 70/100\n",
      "309/309 [==============================] - 4s 13ms/step - loss: 2653125.9911 - val_loss: 1674533.3750\n",
      "Epoch 71/100\n",
      "309/309 [==============================] - 4s 14ms/step - loss: 2073766.3835 - val_loss: 1778145.5000\n",
      "Epoch 72/100\n"
     ]
    },
    {
     "name": "stdout",
     "output_type": "stream",
     "text": [
      "309/309 [==============================] - 4s 13ms/step - loss: 2100480.4395 - val_loss: 1543410.0000\n",
      "Epoch 73/100\n",
      "309/309 [==============================] - 4s 13ms/step - loss: 2146825.6300 - val_loss: 5338331.0000\n",
      "Epoch 74/100\n",
      "309/309 [==============================] - 4s 13ms/step - loss: 2647490.9927 - val_loss: 1882637.3750\n",
      "Epoch 75/100\n",
      "309/309 [==============================] - 4s 13ms/step - loss: 2336507.7351 - val_loss: 2564905.0000\n",
      "Epoch 76/100\n",
      "309/309 [==============================] - 4s 13ms/step - loss: 2227749.4181 - val_loss: 1452881.2500\n",
      "Epoch 77/100\n",
      "309/309 [==============================] - 4s 13ms/step - loss: 2144113.9815 - val_loss: 1497722.1250\n",
      "Epoch 78/100\n",
      "309/309 [==============================] - 4s 13ms/step - loss: 2048204.0363 - val_loss: 1573585.2500\n",
      "Epoch 79/100\n",
      "309/309 [==============================] - 4s 14ms/step - loss: 2173770.6129 - val_loss: 1498678.0000\n",
      "Epoch 80/100\n",
      "309/309 [==============================] - 4s 13ms/step - loss: 2272134.5935 - val_loss: 1437805.7500\n",
      "Epoch 81/100\n",
      "309/309 [==============================] - 4s 13ms/step - loss: 1757691.5865 - val_loss: 2824678.7500\n",
      "Epoch 82/100\n",
      "309/309 [==============================] - 4s 13ms/step - loss: 3074332.8004 - val_loss: 1765995.0000\n",
      "Epoch 83/100\n",
      "309/309 [==============================] - 4s 13ms/step - loss: 2168850.5036 - val_loss: 1466450.3750\n",
      "Epoch 84/100\n",
      "309/309 [==============================] - 4s 13ms/step - loss: 2137598.4520 - val_loss: 2846656.7500\n",
      "Epoch 85/100\n",
      "309/309 [==============================] - 4s 13ms/step - loss: 2664556.4750 - val_loss: 2479406.7500\n",
      "Epoch 86/100\n",
      "309/309 [==============================] - 4s 13ms/step - loss: 2430774.2673 - val_loss: 1868335.1250\n",
      "Epoch 87/100\n",
      "309/309 [==============================] - 4s 13ms/step - loss: 2336649.4387 - val_loss: 1445313.5000\n",
      "Epoch 88/100\n",
      "309/309 [==============================] - 4s 13ms/step - loss: 1953407.1484 - val_loss: 1908964.2500\n",
      "Epoch 89/100\n",
      "309/309 [==============================] - 4s 13ms/step - loss: 1953047.5798 - val_loss: 1356250.7500\n",
      "Epoch 90/100\n",
      "309/309 [==============================] - 4s 13ms/step - loss: 1793439.4056 - val_loss: 1837429.5000\n",
      "Epoch 91/100\n",
      "309/309 [==============================] - 4s 14ms/step - loss: 2370270.3851 - val_loss: 1628143.0000\n",
      "Epoch 92/100\n",
      "309/309 [==============================] - 4s 13ms/step - loss: 1983988.3032 - val_loss: 2072456.0000\n",
      "Epoch 93/100\n",
      "309/309 [==============================] - 4s 13ms/step - loss: 2307727.7117 - val_loss: 1611710.2500\n",
      "Epoch 94/100\n",
      "309/309 [==============================] - 4s 14ms/step - loss: 1968681.8444 - val_loss: 1372647.1250\n",
      "Epoch 95/100\n",
      "309/309 [==============================] - 4s 13ms/step - loss: 1795993.2194 - val_loss: 1329795.1250\n",
      "Epoch 96/100\n",
      "309/309 [==============================] - 5s 15ms/step - loss: 1767331.9621 - val_loss: 2975440.0000\n",
      "Epoch 97/100\n",
      "309/309 [==============================] - 5s 16ms/step - loss: 2081428.1423 - val_loss: 1846407.2500: 0s - loss: 21089\n",
      "Epoch 98/100\n",
      "309/309 [==============================] - 4s 14ms/step - loss: 1824180.0692 - val_loss: 2295870.2500\n",
      "Epoch 99/100\n",
      "309/309 [==============================] - 4s 13ms/step - loss: 2101656.3109 - val_loss: 1329492.5000\n",
      "Epoch 100/100\n",
      "309/309 [==============================] - 4s 13ms/step - loss: 1911928.0778 - val_loss: 1372948.1250\n"
     ]
    }
   ],
   "source": [
    "# 학습\n",
    "history = lstm_model.fit(x_train, y_train, \n",
    "                    epochs=100, \n",
    "                    batch_size=16,\n",
    "                    validation_data=(x_valid, y_valid),\n",
    "                    verbose= 1)"
   ]
  },
  {
   "cell_type": "code",
   "execution_count": 47,
   "metadata": {},
   "outputs": [
    {
     "data": {
      "image/png": "[encoded data removed]",
      "text/plain": [
       "<Figure size 576x576 with 1 Axes>"
      ]
     },
     "metadata": {
      "needs_background": "light"
     },
     "output_type": "display_data"
    }
   ],
   "source": [
    "loss = history.history['loss']\n",
    "val_loss = history.history['val_loss'] \n",
    "plt.figure(figsize=(8, 8)) \n",
    "plt.plot(loss, label='Training Loss') \n",
    "plt.plot(val_loss, label='Validation Loss') \n",
    "plt.legend(loc='upper right') \n",
    "plt.title('Training and Validation Loss') \n",
    "plt.xlabel('epoch') \n",
    "plt.show()"
   ]
  },
  {
   "cell_type": "code",
   "execution_count": 48,
   "metadata": {},
   "outputs": [],
   "source": [
    "# 예측\n",
    "pred = lstm_model.predict(test_feature)"
   ]
  },
  {
   "cell_type": "code",
   "execution_count": 49,
   "metadata": {},
   "outputs": [
    {
     "data": {
      "image/png": "[encoded data removed]",
      "text/plain": [
       "<Figure size 864x648 with 1 Axes>"
      ]
     },
     "metadata": {
      "needs_background": "light"
     },
     "output_type": "display_data"
    }
   ],
   "source": [
    "plt.figure(figsize=(12, 9))\n",
    "plt.plot(test_label, label='actual')\n",
    "plt.plot(pred, label='prediction')\n",
    "plt.legend()\n",
    "plt.show()"
   ]
  },
  {
   "cell_type": "code",
   "execution_count": 50,
   "metadata": {},
   "outputs": [
    {
     "name": "stdout",
     "output_type": "stream",
     "text": [
      "y를 Scaling하지 않은 LSTM 모델의 MAPE :  6.753616454499743\n",
      "y를 Scaling하지 않은 LSTM 모델의 RMSE :  6249.378272518231\n"
     ]
    }
   ],
   "source": [
    "print('y를 Scaling하지 않은 LSTM 모델의 MAPE : ', MAPE(test_label, pred))\n",
    "print('y를 Scaling하지 않은 LSTM 모델의 RMSE : ', RMSE(test_label, pred)) "
   ]
  },
  {
   "cell_type": "markdown",
   "metadata": {},
   "source": [
    "정리(비교를 위해서 두 경우 모두 같은 모델을 사용하였지만, 모델의 튜닝을 데이터의 형태에 따라 적절하게 사용하면 당연히 예측 성능은 더 올라갈 수 있다.)"
   ]
  },
  {
   "cell_type": "markdown",
   "metadata": {},
   "source": [
    "* y를 Scaling한 RNN : Val_loss의 값이 튀(?)는 것을 확인할 수 있다. 과적합의 영향이 있어보이지만 후의 LSTM의 MAPE, RMSE와 비교하면 RNN이 장기예측에 부적합하다는 것을 확인할 수 있다."
   ]
  },
  {
   "cell_type": "markdown",
   "metadata": {},
   "source": [
    "* y를 Scaling한 LSTM : TEST 데이터의 시각화와 RMSE, MAPE 수치가 아주 좋은 것을 보여준다. 또, Val_loss 그래프를 꾸준히 감소하지만 예측값과 실제값이 너무 비슷해서 아무래도 과적합이 일어난 것으로 추측한다."
   ]
  },
  {
   "cell_type": "markdown",
   "metadata": {},
   "source": [
    "* y를 Scaling하지 않은 RNN : 학습이 전혀 안되는 것을 확인할 수 있다. 학습이 안된 이유는 RNN의 파라미터 개수는 약 3000개이다. y를 scaling하지 않았을 때는 y를 scaling할 때보다 수치가 매우 큰 것을 확인할 수 있다. 이 모델의 파라미터의 개수로는 상대적으로 수치가 큰 타겟에 대해서 학습을 못하는 것을 확인할 수 있다. 그래도 val_loss와 loss그래프를 확인하면 수치가 계속 낮아지는 것을 확인할 수 있다. 즉, 파라미터의 개수를 늘린다(LAYER를 늘리거나 각 LAYER의 NODE를 증가시켜서)면 적절하게 학습할 수 있음을 유추할 수 있다. "
   ]
  },
  {
   "cell_type": "markdown",
   "metadata": {},
   "source": [
    "* y를 Scaling하지 않은 LSTM : RNN과 다르게 학습이 어느정도 되는 것을 확인할 수 있다. LSTM의 파라미터 개수는 약 13000개 정도인데 파라미터의 개수가 더 많기 때문에 학습이 어느정도 되는 것이다. "
   ]
  }
 ],
 "metadata": {
  "kernelspec": {
   "display_name": "Python 3",
   "language": "python",
   "name": "python3"
  },
  "language_info": {
   "codemirror_mode": {
    "name": "ipython",
    "version": 3
   },
   "file_extension": ".py",
   "mimetype": "text/x-python",
   "name": "python",
   "nbconvert_exporter": "python",
   "pygments_lexer": "ipython3",
   "version": "3.8.5"
  },
  "toc": {
   "base_numbering": 1,
   "nav_menu": {},
   "number_sections": true,
   "sideBar": true,
   "skip_h1_title": false,
   "title_cell": "Table of Contents",
   "title_sidebar": "Contents",
   "toc_cell": false,
   "toc_position": {},
   "toc_section_display": true,
   "toc_window_display": false
  },
  "varInspector": {
   "cols": {
    "lenName": 16,
    "lenType": 16,
    "lenVar": 40
   },
   "kernels_config": {
    "python": {
     "delete_cmd_postfix": "",
     "delete_cmd_prefix": "del ",
     "library": "var_list.py",
     "varRefreshCmd": "print(var_dic_list())"
    },
    "r": {
     "delete_cmd_postfix": ") ",
     "delete_cmd_prefix": "rm(",
     "library": "var_list.r",
     "varRefreshCmd": "cat(var_dic_list()) "
    }
   },
   "types_to_exclude": [
    "module",
    "function",
    "builtin_function_or_method",
    "instance",
    "_Feature"
   ],
   "window_display": false
  }
 },
 "nbformat": 4,
 "nbformat_minor": 4
}
